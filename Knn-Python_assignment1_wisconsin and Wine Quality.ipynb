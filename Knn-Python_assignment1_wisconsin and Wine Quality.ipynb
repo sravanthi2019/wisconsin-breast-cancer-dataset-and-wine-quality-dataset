{
 "cells": [
  {
   "cell_type": "markdown",
   "metadata": {},
   "source": [
    "### Sravanthi Mummadi Week 1 KNN assignment\n",
    "## K-NN classification on wisconsin breast cancer dataset and Wine Quality dataset\n",
    "The goal of the project is to \n",
    "1.find type of cancer whether it is benign or malignant with given features like radius, texture, smoothness etc on      wisconsin breat cancer dataset.\n",
    "2.find quality of wine whether it is class 1 or class 2 or class 3 with given features like alchohal,magnesium color, etc on    wine quality dataset.\n",
    "3.checking Accuracy, precision, Recall and F1 score with different k values.\n",
    "4.Estimation of  best k value with Grid search Cross validation method."
   ]
  },
  {
   "cell_type": "code",
   "execution_count": 412,
   "metadata": {},
   "outputs": [
    {
     "name": "stdout",
     "output_type": "stream",
     "text": [
      "Requirement already satisfied: scikit-learn in c:\\users\\kgajj\\anaconda3\\lib\\site-packages (0.20.1)\n",
      "Requirement already satisfied: numpy>=1.8.2 in c:\\users\\kgajj\\anaconda3\\lib\\site-packages (from scikit-learn) (1.15.4)\n",
      "Requirement already satisfied: scipy>=0.13.3 in c:\\users\\kgajj\\anaconda3\\lib\\site-packages (from scikit-learn) (1.1.0)\n"
     ]
    }
   ],
   "source": [
    "# installing required packages\n",
    "!pip install scikit-learn\n",
    "\n",
    "# Import a bunch of libraries.\n",
    "import pandas as pd\n",
    "import time\n",
    "import numpy as np\n",
    "import warnings\n",
    "warnings.filterwarnings(\"ignore\")\n",
    "import sklearn\n",
    "from sklearn.pipeline import Pipeline\n",
    "from sklearn.datasets import fetch_mldata\n",
    "from sklearn.neighbors import KNeighborsClassifier\n",
    "from sklearn.metrics import confusion_matrix\n",
    "from sklearn.model_selection import GridSearchCV\n",
    "#from sklearn.grid_search import GridSearchCV\n",
    "from sklearn.metrics import classification_report\n"
   ]
  },
  {
   "cell_type": "markdown",
   "metadata": {},
   "source": [
    "### Data Extraction\n",
    "Data extracted from UCI machine learning Repository.Dataset contains 33 columns with 569 observations."
   ]
  },
  {
   "cell_type": "code",
   "execution_count": 414,
   "metadata": {},
   "outputs": [
    {
     "data": {
      "text/html": [
       "<div>\n",
       "<style scoped>\n",
       "    .dataframe tbody tr th:only-of-type {\n",
       "        vertical-align: middle;\n",
       "    }\n",
       "\n",
       "    .dataframe tbody tr th {\n",
       "        vertical-align: top;\n",
       "    }\n",
       "\n",
       "    .dataframe thead th {\n",
       "        text-align: right;\n",
       "    }\n",
       "</style>\n",
       "<table border=\"1\" class=\"dataframe\">\n",
       "  <thead>\n",
       "    <tr style=\"text-align: right;\">\n",
       "      <th></th>\n",
       "      <th>id</th>\n",
       "      <th>diagnosis</th>\n",
       "      <th>radius_mean</th>\n",
       "      <th>texture_mean</th>\n",
       "      <th>perimeter_mean</th>\n",
       "      <th>area_mean</th>\n",
       "      <th>smoothness_mean</th>\n",
       "      <th>compactness_mean</th>\n",
       "      <th>concavity_mean</th>\n",
       "      <th>concave points_mean</th>\n",
       "      <th>...</th>\n",
       "      <th>texture_worst</th>\n",
       "      <th>perimeter_worst</th>\n",
       "      <th>area_worst</th>\n",
       "      <th>smoothness_worst</th>\n",
       "      <th>compactness_worst</th>\n",
       "      <th>concavity_worst</th>\n",
       "      <th>concave points_worst</th>\n",
       "      <th>symmetry_worst</th>\n",
       "      <th>fractal_dimension_worst</th>\n",
       "      <th>Unnamed: 32</th>\n",
       "    </tr>\n",
       "  </thead>\n",
       "  <tbody>\n",
       "    <tr>\n",
       "      <th>0</th>\n",
       "      <td>842302</td>\n",
       "      <td>M</td>\n",
       "      <td>17.99</td>\n",
       "      <td>10.38</td>\n",
       "      <td>122.80</td>\n",
       "      <td>1001.0</td>\n",
       "      <td>0.11840</td>\n",
       "      <td>0.27760</td>\n",
       "      <td>0.3001</td>\n",
       "      <td>0.14710</td>\n",
       "      <td>...</td>\n",
       "      <td>17.33</td>\n",
       "      <td>184.60</td>\n",
       "      <td>2019.0</td>\n",
       "      <td>0.1622</td>\n",
       "      <td>0.6656</td>\n",
       "      <td>0.7119</td>\n",
       "      <td>0.2654</td>\n",
       "      <td>0.4601</td>\n",
       "      <td>0.11890</td>\n",
       "      <td>NaN</td>\n",
       "    </tr>\n",
       "    <tr>\n",
       "      <th>1</th>\n",
       "      <td>842517</td>\n",
       "      <td>M</td>\n",
       "      <td>20.57</td>\n",
       "      <td>17.77</td>\n",
       "      <td>132.90</td>\n",
       "      <td>1326.0</td>\n",
       "      <td>0.08474</td>\n",
       "      <td>0.07864</td>\n",
       "      <td>0.0869</td>\n",
       "      <td>0.07017</td>\n",
       "      <td>...</td>\n",
       "      <td>23.41</td>\n",
       "      <td>158.80</td>\n",
       "      <td>1956.0</td>\n",
       "      <td>0.1238</td>\n",
       "      <td>0.1866</td>\n",
       "      <td>0.2416</td>\n",
       "      <td>0.1860</td>\n",
       "      <td>0.2750</td>\n",
       "      <td>0.08902</td>\n",
       "      <td>NaN</td>\n",
       "    </tr>\n",
       "    <tr>\n",
       "      <th>2</th>\n",
       "      <td>84300903</td>\n",
       "      <td>M</td>\n",
       "      <td>19.69</td>\n",
       "      <td>21.25</td>\n",
       "      <td>130.00</td>\n",
       "      <td>1203.0</td>\n",
       "      <td>0.10960</td>\n",
       "      <td>0.15990</td>\n",
       "      <td>0.1974</td>\n",
       "      <td>0.12790</td>\n",
       "      <td>...</td>\n",
       "      <td>25.53</td>\n",
       "      <td>152.50</td>\n",
       "      <td>1709.0</td>\n",
       "      <td>0.1444</td>\n",
       "      <td>0.4245</td>\n",
       "      <td>0.4504</td>\n",
       "      <td>0.2430</td>\n",
       "      <td>0.3613</td>\n",
       "      <td>0.08758</td>\n",
       "      <td>NaN</td>\n",
       "    </tr>\n",
       "    <tr>\n",
       "      <th>3</th>\n",
       "      <td>84348301</td>\n",
       "      <td>M</td>\n",
       "      <td>11.42</td>\n",
       "      <td>20.38</td>\n",
       "      <td>77.58</td>\n",
       "      <td>386.1</td>\n",
       "      <td>0.14250</td>\n",
       "      <td>0.28390</td>\n",
       "      <td>0.2414</td>\n",
       "      <td>0.10520</td>\n",
       "      <td>...</td>\n",
       "      <td>26.50</td>\n",
       "      <td>98.87</td>\n",
       "      <td>567.7</td>\n",
       "      <td>0.2098</td>\n",
       "      <td>0.8663</td>\n",
       "      <td>0.6869</td>\n",
       "      <td>0.2575</td>\n",
       "      <td>0.6638</td>\n",
       "      <td>0.17300</td>\n",
       "      <td>NaN</td>\n",
       "    </tr>\n",
       "    <tr>\n",
       "      <th>4</th>\n",
       "      <td>84358402</td>\n",
       "      <td>M</td>\n",
       "      <td>20.29</td>\n",
       "      <td>14.34</td>\n",
       "      <td>135.10</td>\n",
       "      <td>1297.0</td>\n",
       "      <td>0.10030</td>\n",
       "      <td>0.13280</td>\n",
       "      <td>0.1980</td>\n",
       "      <td>0.10430</td>\n",
       "      <td>...</td>\n",
       "      <td>16.67</td>\n",
       "      <td>152.20</td>\n",
       "      <td>1575.0</td>\n",
       "      <td>0.1374</td>\n",
       "      <td>0.2050</td>\n",
       "      <td>0.4000</td>\n",
       "      <td>0.1625</td>\n",
       "      <td>0.2364</td>\n",
       "      <td>0.07678</td>\n",
       "      <td>NaN</td>\n",
       "    </tr>\n",
       "  </tbody>\n",
       "</table>\n",
       "<p>5 rows × 33 columns</p>\n",
       "</div>"
      ],
      "text/plain": [
       "         id diagnosis  radius_mean  texture_mean  perimeter_mean  area_mean  \\\n",
       "0    842302         M        17.99         10.38          122.80     1001.0   \n",
       "1    842517         M        20.57         17.77          132.90     1326.0   \n",
       "2  84300903         M        19.69         21.25          130.00     1203.0   \n",
       "3  84348301         M        11.42         20.38           77.58      386.1   \n",
       "4  84358402         M        20.29         14.34          135.10     1297.0   \n",
       "\n",
       "   smoothness_mean  compactness_mean  concavity_mean  concave points_mean  \\\n",
       "0          0.11840           0.27760          0.3001              0.14710   \n",
       "1          0.08474           0.07864          0.0869              0.07017   \n",
       "2          0.10960           0.15990          0.1974              0.12790   \n",
       "3          0.14250           0.28390          0.2414              0.10520   \n",
       "4          0.10030           0.13280          0.1980              0.10430   \n",
       "\n",
       "      ...       texture_worst  perimeter_worst  area_worst  smoothness_worst  \\\n",
       "0     ...               17.33           184.60      2019.0            0.1622   \n",
       "1     ...               23.41           158.80      1956.0            0.1238   \n",
       "2     ...               25.53           152.50      1709.0            0.1444   \n",
       "3     ...               26.50            98.87       567.7            0.2098   \n",
       "4     ...               16.67           152.20      1575.0            0.1374   \n",
       "\n",
       "   compactness_worst  concavity_worst  concave points_worst  symmetry_worst  \\\n",
       "0             0.6656           0.7119                0.2654          0.4601   \n",
       "1             0.1866           0.2416                0.1860          0.2750   \n",
       "2             0.4245           0.4504                0.2430          0.3613   \n",
       "3             0.8663           0.6869                0.2575          0.6638   \n",
       "4             0.2050           0.4000                0.1625          0.2364   \n",
       "\n",
       "   fractal_dimension_worst  Unnamed: 32  \n",
       "0                  0.11890          NaN  \n",
       "1                  0.08902          NaN  \n",
       "2                  0.08758          NaN  \n",
       "3                  0.17300          NaN  \n",
       "4                  0.07678          NaN  \n",
       "\n",
       "[5 rows x 33 columns]"
      ]
     },
     "execution_count": 414,
     "metadata": {},
     "output_type": "execute_result"
    }
   ],
   "source": [
    "path = 'C:\\\\Users\\\\kgajj\\\\Downloads\\\\data.csv'\n",
    "wbcd = pd.read_csv(path)\n",
    "wbcd.head()"
   ]
  },
  {
   "cell_type": "markdown",
   "metadata": {},
   "source": [
    "### Data cleaning\n",
    "All features are in required format , so there is no need of Data tranformation.The target variable is diagnosis. ONly one unnamed column is there, so i deleted that column.there are no missing values in any column."
   ]
  },
  {
   "cell_type": "code",
   "execution_count": 416,
   "metadata": {},
   "outputs": [
    {
     "name": "stdout",
     "output_type": "stream",
     "text": [
      "<class 'pandas.core.frame.DataFrame'>\n",
      "RangeIndex: 569 entries, 0 to 568\n",
      "Data columns (total 33 columns):\n",
      "id                         569 non-null int64\n",
      "diagnosis                  569 non-null object\n",
      "radius_mean                569 non-null float64\n",
      "texture_mean               569 non-null float64\n",
      "perimeter_mean             569 non-null float64\n",
      "area_mean                  569 non-null float64\n",
      "smoothness_mean            569 non-null float64\n",
      "compactness_mean           569 non-null float64\n",
      "concavity_mean             569 non-null float64\n",
      "concave points_mean        569 non-null float64\n",
      "symmetry_mean              569 non-null float64\n",
      "fractal_dimension_mean     569 non-null float64\n",
      "radius_se                  569 non-null float64\n",
      "texture_se                 569 non-null float64\n",
      "perimeter_se               569 non-null float64\n",
      "area_se                    569 non-null float64\n",
      "smoothness_se              569 non-null float64\n",
      "compactness_se             569 non-null float64\n",
      "concavity_se               569 non-null float64\n",
      "concave points_se          569 non-null float64\n",
      "symmetry_se                569 non-null float64\n",
      "fractal_dimension_se       569 non-null float64\n",
      "radius_worst               569 non-null float64\n",
      "texture_worst              569 non-null float64\n",
      "perimeter_worst            569 non-null float64\n",
      "area_worst                 569 non-null float64\n",
      "smoothness_worst           569 non-null float64\n",
      "compactness_worst          569 non-null float64\n",
      "concavity_worst            569 non-null float64\n",
      "concave points_worst       569 non-null float64\n",
      "symmetry_worst             569 non-null float64\n",
      "fractal_dimension_worst    569 non-null float64\n",
      "Unnamed: 32                0 non-null float64\n",
      "dtypes: float64(31), int64(1), object(1)\n",
      "memory usage: 146.8+ KB\n"
     ]
    }
   ],
   "source": [
    "wbcd.info()"
   ]
  },
  {
   "cell_type": "code",
   "execution_count": 417,
   "metadata": {},
   "outputs": [
    {
     "data": {
      "text/plain": [
       "(569, 33)"
      ]
     },
     "execution_count": 417,
     "metadata": {},
     "output_type": "execute_result"
    }
   ],
   "source": [
    "# checking for duplicates\n",
    "wbcd.drop_duplicates(inplace=True)\n",
    "wbcd.shape "
   ]
  },
  {
   "cell_type": "code",
   "execution_count": 418,
   "metadata": {},
   "outputs": [],
   "source": [
    "# id will not make at impact on type of cancer so i dropped id and unnamed column. remaining features took as predictors.\n",
    "wbcd.feature_names = wbcd.drop(wbcd.columns[[0,1,-1]], axis = 1)"
   ]
  },
  {
   "cell_type": "code",
   "execution_count": 419,
   "metadata": {},
   "outputs": [],
   "source": [
    "wbcd.target = wbcd['diagnosis']"
   ]
  },
  {
   "cell_type": "code",
   "execution_count": 420,
   "metadata": {},
   "outputs": [
    {
     "data": {
      "text/html": [
       "<div>\n",
       "<style scoped>\n",
       "    .dataframe tbody tr th:only-of-type {\n",
       "        vertical-align: middle;\n",
       "    }\n",
       "\n",
       "    .dataframe tbody tr th {\n",
       "        vertical-align: top;\n",
       "    }\n",
       "\n",
       "    .dataframe thead th {\n",
       "        text-align: right;\n",
       "    }\n",
       "</style>\n",
       "<table border=\"1\" class=\"dataframe\">\n",
       "  <thead>\n",
       "    <tr style=\"text-align: right;\">\n",
       "      <th></th>\n",
       "      <th>radius_mean</th>\n",
       "      <th>texture_mean</th>\n",
       "      <th>perimeter_mean</th>\n",
       "      <th>area_mean</th>\n",
       "      <th>smoothness_mean</th>\n",
       "      <th>compactness_mean</th>\n",
       "      <th>concavity_mean</th>\n",
       "      <th>concave points_mean</th>\n",
       "      <th>symmetry_mean</th>\n",
       "      <th>fractal_dimension_mean</th>\n",
       "      <th>...</th>\n",
       "      <th>radius_worst</th>\n",
       "      <th>texture_worst</th>\n",
       "      <th>perimeter_worst</th>\n",
       "      <th>area_worst</th>\n",
       "      <th>smoothness_worst</th>\n",
       "      <th>compactness_worst</th>\n",
       "      <th>concavity_worst</th>\n",
       "      <th>concave points_worst</th>\n",
       "      <th>symmetry_worst</th>\n",
       "      <th>fractal_dimension_worst</th>\n",
       "    </tr>\n",
       "  </thead>\n",
       "  <tbody>\n",
       "    <tr>\n",
       "      <th>0</th>\n",
       "      <td>17.99</td>\n",
       "      <td>10.38</td>\n",
       "      <td>122.80</td>\n",
       "      <td>1001.0</td>\n",
       "      <td>0.11840</td>\n",
       "      <td>0.27760</td>\n",
       "      <td>0.3001</td>\n",
       "      <td>0.14710</td>\n",
       "      <td>0.2419</td>\n",
       "      <td>0.07871</td>\n",
       "      <td>...</td>\n",
       "      <td>25.38</td>\n",
       "      <td>17.33</td>\n",
       "      <td>184.60</td>\n",
       "      <td>2019.0</td>\n",
       "      <td>0.1622</td>\n",
       "      <td>0.6656</td>\n",
       "      <td>0.7119</td>\n",
       "      <td>0.2654</td>\n",
       "      <td>0.4601</td>\n",
       "      <td>0.11890</td>\n",
       "    </tr>\n",
       "    <tr>\n",
       "      <th>1</th>\n",
       "      <td>20.57</td>\n",
       "      <td>17.77</td>\n",
       "      <td>132.90</td>\n",
       "      <td>1326.0</td>\n",
       "      <td>0.08474</td>\n",
       "      <td>0.07864</td>\n",
       "      <td>0.0869</td>\n",
       "      <td>0.07017</td>\n",
       "      <td>0.1812</td>\n",
       "      <td>0.05667</td>\n",
       "      <td>...</td>\n",
       "      <td>24.99</td>\n",
       "      <td>23.41</td>\n",
       "      <td>158.80</td>\n",
       "      <td>1956.0</td>\n",
       "      <td>0.1238</td>\n",
       "      <td>0.1866</td>\n",
       "      <td>0.2416</td>\n",
       "      <td>0.1860</td>\n",
       "      <td>0.2750</td>\n",
       "      <td>0.08902</td>\n",
       "    </tr>\n",
       "    <tr>\n",
       "      <th>2</th>\n",
       "      <td>19.69</td>\n",
       "      <td>21.25</td>\n",
       "      <td>130.00</td>\n",
       "      <td>1203.0</td>\n",
       "      <td>0.10960</td>\n",
       "      <td>0.15990</td>\n",
       "      <td>0.1974</td>\n",
       "      <td>0.12790</td>\n",
       "      <td>0.2069</td>\n",
       "      <td>0.05999</td>\n",
       "      <td>...</td>\n",
       "      <td>23.57</td>\n",
       "      <td>25.53</td>\n",
       "      <td>152.50</td>\n",
       "      <td>1709.0</td>\n",
       "      <td>0.1444</td>\n",
       "      <td>0.4245</td>\n",
       "      <td>0.4504</td>\n",
       "      <td>0.2430</td>\n",
       "      <td>0.3613</td>\n",
       "      <td>0.08758</td>\n",
       "    </tr>\n",
       "    <tr>\n",
       "      <th>3</th>\n",
       "      <td>11.42</td>\n",
       "      <td>20.38</td>\n",
       "      <td>77.58</td>\n",
       "      <td>386.1</td>\n",
       "      <td>0.14250</td>\n",
       "      <td>0.28390</td>\n",
       "      <td>0.2414</td>\n",
       "      <td>0.10520</td>\n",
       "      <td>0.2597</td>\n",
       "      <td>0.09744</td>\n",
       "      <td>...</td>\n",
       "      <td>14.91</td>\n",
       "      <td>26.50</td>\n",
       "      <td>98.87</td>\n",
       "      <td>567.7</td>\n",
       "      <td>0.2098</td>\n",
       "      <td>0.8663</td>\n",
       "      <td>0.6869</td>\n",
       "      <td>0.2575</td>\n",
       "      <td>0.6638</td>\n",
       "      <td>0.17300</td>\n",
       "    </tr>\n",
       "    <tr>\n",
       "      <th>4</th>\n",
       "      <td>20.29</td>\n",
       "      <td>14.34</td>\n",
       "      <td>135.10</td>\n",
       "      <td>1297.0</td>\n",
       "      <td>0.10030</td>\n",
       "      <td>0.13280</td>\n",
       "      <td>0.1980</td>\n",
       "      <td>0.10430</td>\n",
       "      <td>0.1809</td>\n",
       "      <td>0.05883</td>\n",
       "      <td>...</td>\n",
       "      <td>22.54</td>\n",
       "      <td>16.67</td>\n",
       "      <td>152.20</td>\n",
       "      <td>1575.0</td>\n",
       "      <td>0.1374</td>\n",
       "      <td>0.2050</td>\n",
       "      <td>0.4000</td>\n",
       "      <td>0.1625</td>\n",
       "      <td>0.2364</td>\n",
       "      <td>0.07678</td>\n",
       "    </tr>\n",
       "  </tbody>\n",
       "</table>\n",
       "<p>5 rows × 30 columns</p>\n",
       "</div>"
      ],
      "text/plain": [
       "   radius_mean  texture_mean  perimeter_mean  area_mean  smoothness_mean  \\\n",
       "0        17.99         10.38          122.80     1001.0          0.11840   \n",
       "1        20.57         17.77          132.90     1326.0          0.08474   \n",
       "2        19.69         21.25          130.00     1203.0          0.10960   \n",
       "3        11.42         20.38           77.58      386.1          0.14250   \n",
       "4        20.29         14.34          135.10     1297.0          0.10030   \n",
       "\n",
       "   compactness_mean  concavity_mean  concave points_mean  symmetry_mean  \\\n",
       "0           0.27760          0.3001              0.14710         0.2419   \n",
       "1           0.07864          0.0869              0.07017         0.1812   \n",
       "2           0.15990          0.1974              0.12790         0.2069   \n",
       "3           0.28390          0.2414              0.10520         0.2597   \n",
       "4           0.13280          0.1980              0.10430         0.1809   \n",
       "\n",
       "   fractal_dimension_mean           ...             radius_worst  \\\n",
       "0                 0.07871           ...                    25.38   \n",
       "1                 0.05667           ...                    24.99   \n",
       "2                 0.05999           ...                    23.57   \n",
       "3                 0.09744           ...                    14.91   \n",
       "4                 0.05883           ...                    22.54   \n",
       "\n",
       "   texture_worst  perimeter_worst  area_worst  smoothness_worst  \\\n",
       "0          17.33           184.60      2019.0            0.1622   \n",
       "1          23.41           158.80      1956.0            0.1238   \n",
       "2          25.53           152.50      1709.0            0.1444   \n",
       "3          26.50            98.87       567.7            0.2098   \n",
       "4          16.67           152.20      1575.0            0.1374   \n",
       "\n",
       "   compactness_worst  concavity_worst  concave points_worst  symmetry_worst  \\\n",
       "0             0.6656           0.7119                0.2654          0.4601   \n",
       "1             0.1866           0.2416                0.1860          0.2750   \n",
       "2             0.4245           0.4504                0.2430          0.3613   \n",
       "3             0.8663           0.6869                0.2575          0.6638   \n",
       "4             0.2050           0.4000                0.1625          0.2364   \n",
       "\n",
       "   fractal_dimension_worst  \n",
       "0                  0.11890  \n",
       "1                  0.08902  \n",
       "2                  0.08758  \n",
       "3                  0.17300  \n",
       "4                  0.07678  \n",
       "\n",
       "[5 rows x 30 columns]"
      ]
     },
     "execution_count": 420,
     "metadata": {},
     "output_type": "execute_result"
    }
   ],
   "source": [
    "wbcd.feature_names.head()"
   ]
  },
  {
   "cell_type": "markdown",
   "metadata": {},
   "source": [
    "## Data Exploration\n",
    "For all numeric columns performed univariate analysis and bi variate analysis to see the distribution and correlation of data."
   ]
  },
  {
   "cell_type": "code",
   "execution_count": 421,
   "metadata": {
    "scrolled": true
   },
   "outputs": [
    {
     "data": {
      "text/plain": [
       "Text(0.5, 1.0, 'Univariate Analysis')"
      ]
     },
     "execution_count": 421,
     "metadata": {},
     "output_type": "execute_result"
    },
    {
     "data": {
      "image/png": "[encoded data removed]",
      "text/plain": [
       "<Figure size 1440x1080 with 30 Axes>"
      ]
     },
     "metadata": {
      "needs_background": "light"
     },
     "output_type": "display_data"
    }
   ],
   "source": [
    "#Uni variate Analysis\n",
    "%matplotlib inline\n",
    "import matplotlib.pyplot as plt\n",
    "wbcd.feature_names.hist(bins=100, figsize=(20,15))\n",
    "plt.title(\"Univariate Analysis\", size = 15)"
   ]
  },
  {
   "cell_type": "markdown",
   "metadata": {},
   "source": [
    "All most all columns have normal distribution except the area_se.but some features are in large numbers. we can standardize them."
   ]
  },
  {
   "cell_type": "code",
   "execution_count": 422,
   "metadata": {},
   "outputs": [
    {
     "data": {
      "image/png": "[encoded data removed]",
      "text/plain": [
       "<Figure size 720x432 with 2 Axes>"
      ]
     },
     "metadata": {},
     "output_type": "display_data"
    }
   ],
   "source": [
    "\n",
    "import seaborn as sns\n",
    "sns.set_style('whitegrid')\n",
    "# Correlation Matrix Heatmap\n",
    "fig, ax = plt.subplots(figsize=(10, 6))\n",
    "#attributes = [\"Avg_Sale_To_List\", \"Homes_Sold\", \"Inventory\", \"Median_Sale_Price\",\"New_Listings\"]\n",
    "corr = wbcd.feature_names.corr()\n",
    "hm = sns.heatmap(round(corr,2),  ax=ax, cmap=\"coolwarm\",fmt='.2f',\n",
    "                 linewidths=.05)\n",
    "fig.subplots_adjust(top=0.93)\n",
    "t = fig.suptitle('Correlation Heatmap', fontsize=14)\n",
    "plt.show()"
   ]
  },
  {
   "cell_type": "markdown",
   "metadata": {},
   "source": [
    "from the above correlation plot, Most of the columns have good correlation.only few features does not have good correlation."
   ]
  },
  {
   "cell_type": "markdown",
   "metadata": {},
   "source": [
    "### splitting the data for training and testing"
   ]
  },
  {
   "cell_type": "code",
   "execution_count": 423,
   "metadata": {},
   "outputs": [],
   "source": [
    "# importing train_test_split method from sklearn.model  for splitting the data\n",
    "from sklearn.model_selection import train_test_split\n"
   ]
  },
  {
   "cell_type": "code",
   "execution_count": 424,
   "metadata": {},
   "outputs": [],
   "source": [
    "# splitted the data into  80% and 20% for training and testing respectively\n",
    "X_train,X_test,y_train,y_test = train_test_split(wbcd.feature_names,wbcd.target,test_size=0.2,random_state=4)"
   ]
  },
  {
   "cell_type": "code",
   "execution_count": 425,
   "metadata": {},
   "outputs": [
    {
     "name": "stdout",
     "output_type": "stream",
     "text": [
      "(455, 30)\n",
      "(114, 30)\n"
     ]
    }
   ],
   "source": [
    "print(X_train.shape)\n",
    "print(X_test.shape)"
   ]
  },
  {
   "cell_type": "code",
   "execution_count": 426,
   "metadata": {},
   "outputs": [
    {
     "name": "stdout",
     "output_type": "stream",
     "text": [
      "(455,)\n",
      "(114,)\n"
     ]
    }
   ],
   "source": [
    "print(y_train.shape)\n",
    "print(y_test.shape)"
   ]
  },
  {
   "cell_type": "code",
   "execution_count": 427,
   "metadata": {},
   "outputs": [],
   "source": [
    "# standardizing the data as features with large numbers impact the K-NN model.\n",
    "from sklearn.preprocessing import StandardScaler\n",
    "sc = StandardScaler()\n",
    "X_train = sc.fit_transform(X_train)\n",
    "X_test = sc.transform(X_test)"
   ]
  },
  {
   "cell_type": "code",
   "execution_count": 428,
   "metadata": {},
   "outputs": [
    {
     "name": "stdout",
     "output_type": "stream",
     "text": [
      "0.9649122807017544\n"
     ]
    }
   ],
   "source": [
    "#importing the model from sklearn\n",
    "from sklearn import metrics\n",
    "from sklearn.neighbors import KNeighborsClassifier\n",
    "\n",
    "# training the model\n",
    "knn = KNeighborsClassifier(n_neighbors=5, metric='euclidean', n_jobs=-1).fit(X_train,y_train)\n",
    "#knn.fit(X_train,y_train)\n",
    "\n",
    "# testing the model\n",
    "y_pred = knn.predict(X_test)\n",
    "\n",
    "# checking the accuaracy of the model\n",
    "scores = metrics.accuracy_score(y_test,y_pred)\n",
    "print(scores)"
   ]
  },
  {
   "cell_type": "markdown",
   "metadata": {},
   "source": [
    "Knn model gave 96.4% accuracy when numnber of neighbours is 5."
   ]
  },
  {
   "cell_type": "code",
   "execution_count": 429,
   "metadata": {},
   "outputs": [
    {
     "name": "stdout",
     "output_type": "stream",
     "text": [
      "B    80\n",
      "M    34\n",
      "Name: diagnosis, dtype: int64\n",
      "[[78  2]\n",
      " [ 2 32]]\n",
      "              precision    recall  f1-score   support\n",
      "\n",
      "           B       0.97      0.97      0.97        80\n",
      "           M       0.94      0.94      0.94        34\n",
      "\n",
      "   micro avg       0.96      0.96      0.96       114\n",
      "   macro avg       0.96      0.96      0.96       114\n",
      "weighted avg       0.96      0.96      0.96       114\n",
      "\n"
     ]
    }
   ],
   "source": [
    "\n",
    "print(y_test.value_counts())\n",
    "# confusion matrix values for the model\n",
    "from sklearn.metrics import classification_report, confusion_matrix  \n",
    "print(confusion_matrix(y_test, y_pred))  \n",
    "print(classification_report(y_test, y_pred))  "
   ]
  },
  {
   "cell_type": "markdown",
   "metadata": {},
   "source": [
    "From Confusion matrix observed that, the precision is 99% which means out of all malignant predicted malignant. Recall is 97%, which means out of all benign how many actally are benign.f1 is calculated based on precision and recall values"
   ]
  },
  {
   "cell_type": "code",
   "execution_count": 430,
   "metadata": {},
   "outputs": [],
   "source": [
    "# checking the model with different k values from  to 40\n",
    "import numpy as np\n",
    "Accuracy = []\n",
    "\n",
    "# Calculating error for K values between 1 and 40\n",
    "for i in range(1, 40):  \n",
    "    knn = KNeighborsClassifier(n_neighbors=i)\n",
    "    knn.fit(X_train, y_train)\n",
    "    y_pred = knn.predict(X_test)\n",
    "    Accuracy.append(metrics.accuracy_score(y_test,y_pred))"
   ]
  },
  {
   "cell_type": "code",
   "execution_count": 431,
   "metadata": {},
   "outputs": [
    {
     "data": {
      "text/plain": [
       "Text(0, 0.5, 'Accuracy')"
      ]
     },
     "execution_count": 431,
     "metadata": {},
     "output_type": "execute_result"
    },
    {
     "data": {
      "image/png": "[encoded data removed]",
      "text/plain": [
       "<Figure size 864x432 with 1 Axes>"
      ]
     },
     "metadata": {},
     "output_type": "display_data"
    }
   ],
   "source": [
    "#plotted the model accuarcy plot with different K values\n",
    "plt.figure(figsize=(12, 6))  \n",
    "plt.plot(range(1, 40), Accuracy, color='red', linestyle='dashed', marker='o',  \n",
    "         markerfacecolor='blue', markersize=10)\n",
    "plt.title('accuracy with different K Value')  \n",
    "plt.xlabel('K Value')  \n",
    "plt.ylabel('Accuracy')"
   ]
  },
  {
   "cell_type": "markdown",
   "metadata": {},
   "source": [
    "checked accuracy with different k values using for loop. from the above plot we can see that when k is between 5 to 8 accuracy is very high almost 99%\n",
    " From the above graph, we can see that k value from 15 to 18 the accuracy is very high (99%) and at k=1 the accuaracy is low. with out the standardization the accuaracy is very low."
   ]
  },
  {
   "cell_type": "markdown",
   "metadata": {},
   "source": [
    "###  cross validation for best k value estimation using Grid search CV"
   ]
  },
  {
   "cell_type": "code",
   "execution_count": 432,
   "metadata": {},
   "outputs": [
    {
     "data": {
      "text/plain": [
       "GridSearchCV(cv=10, error_score='raise-deprecating',\n",
       "       estimator=KNeighborsClassifier(algorithm='auto', leaf_size=30, metric='minkowski',\n",
       "           metric_params=None, n_jobs=None, n_neighbors=5, p=2,\n",
       "           weights='uniform'),\n",
       "       fit_params=None, iid='warn', n_jobs=None,\n",
       "       param_grid={'n_neighbors': [1, 2, 3, 4, 5, 6, 7, 8, 9, 10, 11, 12, 13, 14, 15, 16, 17, 18, 19, 20, 21, 22, 23, 24, 25, 26, 27, 28, 29, 30]},\n",
       "       pre_dispatch='2*n_jobs', refit=True, return_train_score='warn',\n",
       "       scoring='accuracy', verbose=0)"
      ]
     },
     "execution_count": 432,
     "metadata": {},
     "output_type": "execute_result"
    }
   ],
   "source": [
    "# the parameter values that should be searched k_range is between 1 to 31\n",
    "k_range = list(range(1, 31))\n",
    "# created a parameter grid: map the parameter names to the values that should be searched\n",
    "# simply a python dictionary\n",
    "# key: parameter name\n",
    "knn_grid = KNeighborsClassifier()\n",
    "# value: list of values that should be searched for that parameter\n",
    "# single key-value pair for param_grid\n",
    "param_grid = dict(n_neighbors=k_range)\n",
    "#print(param_grid)\n",
    "# instantiate the grid\n",
    "grid = GridSearchCV(knn_grid, param_grid, cv=10, scoring='accuracy')\n",
    "# fit the grid with data\n",
    "grid.fit(X_train, y_train)"
   ]
  },
  {
   "cell_type": "markdown",
   "metadata": {},
   "source": [
    "In 10 fold cross validation, we fit it with the training data. it makes 10 folds in training data by splitting it into equal samples.In that it splits the data into testing and checks for the best k value with less error and high accuracy.In Grid search 10 fold Cross validation,default distance metric is minkowski but the p value is 2 means it is Euclidean distnce. "
   ]
  },
  {
   "cell_type": "code",
   "execution_count": 433,
   "metadata": {},
   "outputs": [
    {
     "data": {
      "text/plain": [
       "{'mean_fit_time': array([0.00179539, 0.00089493, 0.00119364, 0.00129414, 0.00109336,\n",
       "        0.00089843, 0.00129249, 0.00218964, 0.00109372, 0.00169063,\n",
       "        0.00129936, 0.00090227, 0.00100169, 0.00099292, 0.00089779,\n",
       "        0.00109353, 0.00099871, 0.00099428, 0.00100148, 0.00120113,\n",
       "        0.0011935 , 0.0010915 , 0.00109885, 0.00100205, 0.00100129,\n",
       "        0.001197  , 0.00099173, 0.00109687, 0.00109994, 0.00098846]),\n",
       " 'std_fit_time': array([5.97748141e-04, 2.98426797e-04, 3.93078698e-04, 4.48655636e-04,\n",
       "        2.92687380e-04, 2.99805273e-04, 6.33332588e-04, 1.39673109e-03,\n",
       "        3.00990934e-04, 8.88178099e-04, 6.41750749e-04, 3.00996732e-04,\n",
       "        1.22947262e-05, 1.47754901e-05, 2.99263361e-04, 3.00966212e-04,\n",
       "        2.39951451e-06, 9.78274749e-06, 1.29499921e-05, 3.96961714e-04,\n",
       "        4.00782602e-04, 3.01286898e-04, 2.98571453e-04, 1.24651882e-05,\n",
       "        1.25952047e-05, 3.98685615e-04, 1.39478740e-05, 3.03127883e-04,\n",
       "        2.98186586e-04, 1.83400925e-05]),\n",
       " 'mean_score_time': array([0.00209723, 0.00159204, 0.00150411, 0.00149503, 0.00129344,\n",
       "        0.00179434, 0.00229592, 0.00239766, 0.00169878, 0.00299704,\n",
       "        0.00179312, 0.00199094, 0.00159018, 0.00149462, 0.00179021,\n",
       "        0.00150087, 0.00179796, 0.00179858, 0.00179081, 0.00179732,\n",
       "        0.00179429, 0.00219138, 0.00180192, 0.0017875 , 0.00169609,\n",
       "        0.00189562, 0.00189469, 0.00148997, 0.00189159, 0.00179579]),\n",
       " 'std_score_time': array([1.14083440e-03, 4.85824881e-04, 4.98106810e-04, 4.97871660e-04,\n",
       "        4.58937080e-04, 5.98869011e-04, 1.18738159e-03, 9.21955793e-04,\n",
       "        4.51361946e-04, 1.60479809e-03, 7.41264278e-04, 1.04269361e-05,\n",
       "        4.77665933e-04, 4.98248633e-04, 3.97021746e-04, 6.67487492e-04,\n",
       "        4.03103914e-04, 4.01312237e-04, 3.96668531e-04, 3.92260492e-04,\n",
       "        4.08958518e-04, 4.04503115e-04, 4.10591790e-04, 4.03231600e-04,\n",
       "        4.57511928e-04, 2.99692757e-04, 5.37687037e-04, 4.93265652e-04,\n",
       "        2.98295973e-04, 3.87461081e-04]),\n",
       " 'param_n_neighbors': masked_array(data=[1, 2, 3, 4, 5, 6, 7, 8, 9, 10, 11, 12, 13, 14, 15, 16,\n",
       "                    17, 18, 19, 20, 21, 22, 23, 24, 25, 26, 27, 28, 29, 30],\n",
       "              mask=[False, False, False, False, False, False, False, False,\n",
       "                    False, False, False, False, False, False, False, False,\n",
       "                    False, False, False, False, False, False, False, False,\n",
       "                    False, False, False, False, False, False],\n",
       "        fill_value='?',\n",
       "             dtype=object),\n",
       " 'params': [{'n_neighbors': 1},\n",
       "  {'n_neighbors': 2},\n",
       "  {'n_neighbors': 3},\n",
       "  {'n_neighbors': 4},\n",
       "  {'n_neighbors': 5},\n",
       "  {'n_neighbors': 6},\n",
       "  {'n_neighbors': 7},\n",
       "  {'n_neighbors': 8},\n",
       "  {'n_neighbors': 9},\n",
       "  {'n_neighbors': 10},\n",
       "  {'n_neighbors': 11},\n",
       "  {'n_neighbors': 12},\n",
       "  {'n_neighbors': 13},\n",
       "  {'n_neighbors': 14},\n",
       "  {'n_neighbors': 15},\n",
       "  {'n_neighbors': 16},\n",
       "  {'n_neighbors': 17},\n",
       "  {'n_neighbors': 18},\n",
       "  {'n_neighbors': 19},\n",
       "  {'n_neighbors': 20},\n",
       "  {'n_neighbors': 21},\n",
       "  {'n_neighbors': 22},\n",
       "  {'n_neighbors': 23},\n",
       "  {'n_neighbors': 24},\n",
       "  {'n_neighbors': 25},\n",
       "  {'n_neighbors': 26},\n",
       "  {'n_neighbors': 27},\n",
       "  {'n_neighbors': 28},\n",
       "  {'n_neighbors': 29},\n",
       "  {'n_neighbors': 30}],\n",
       " 'split0_test_score': array([0.95652174, 0.97826087, 0.97826087, 1.        , 0.97826087,\n",
       "        1.        , 1.        , 1.        , 1.        , 1.        ,\n",
       "        1.        , 1.        , 1.        , 0.97826087, 0.97826087,\n",
       "        0.97826087, 0.97826087, 0.97826087, 0.97826087, 0.97826087,\n",
       "        0.97826087, 0.97826087, 0.97826087, 0.97826087, 0.97826087,\n",
       "        0.97826087, 0.97826087, 0.97826087, 0.97826087, 0.97826087]),\n",
       " 'split1_test_score': array([0.95652174, 0.97826087, 0.97826087, 0.97826087, 0.97826087,\n",
       "        0.95652174, 0.97826087, 0.97826087, 0.97826087, 0.97826087,\n",
       "        0.97826087, 0.97826087, 0.97826087, 0.97826087, 0.97826087,\n",
       "        0.95652174, 0.95652174, 0.95652174, 0.95652174, 0.95652174,\n",
       "        0.95652174, 0.95652174, 0.95652174, 0.95652174, 0.95652174,\n",
       "        0.95652174, 0.95652174, 0.95652174, 0.95652174, 0.95652174]),\n",
       " 'split2_test_score': array([0.97826087, 1.        , 1.        , 1.        , 1.        ,\n",
       "        1.        , 1.        , 1.        , 1.        , 1.        ,\n",
       "        1.        , 0.97826087, 0.97826087, 0.97826087, 0.97826087,\n",
       "        0.97826087, 0.97826087, 0.97826087, 0.97826087, 0.97826087,\n",
       "        0.97826087, 0.95652174, 0.93478261, 0.95652174, 0.95652174,\n",
       "        0.95652174, 0.95652174, 0.95652174, 0.95652174, 0.95652174]),\n",
       " 'split3_test_score': array([0.97826087, 0.97826087, 0.97826087, 0.95652174, 0.95652174,\n",
       "        0.95652174, 0.95652174, 0.95652174, 0.95652174, 0.95652174,\n",
       "        0.95652174, 0.95652174, 0.95652174, 0.95652174, 0.95652174,\n",
       "        0.95652174, 0.95652174, 0.95652174, 0.95652174, 0.95652174,\n",
       "        0.95652174, 0.95652174, 0.95652174, 0.95652174, 0.95652174,\n",
       "        0.95652174, 0.95652174, 0.95652174, 0.95652174, 0.95652174]),\n",
       " 'split4_test_score': array([0.91304348, 0.95652174, 0.95652174, 0.95652174, 0.95652174,\n",
       "        0.95652174, 0.95652174, 0.95652174, 0.97826087, 0.95652174,\n",
       "        0.95652174, 0.95652174, 0.95652174, 0.95652174, 0.95652174,\n",
       "        0.95652174, 0.95652174, 0.95652174, 0.95652174, 0.95652174,\n",
       "        0.97826087, 0.95652174, 0.95652174, 0.95652174, 0.97826087,\n",
       "        0.95652174, 0.95652174, 0.95652174, 0.95652174, 0.95652174]),\n",
       " 'split5_test_score': array([0.93478261, 0.93478261, 0.93478261, 0.93478261, 0.95652174,\n",
       "        0.95652174, 0.95652174, 0.95652174, 0.95652174, 0.93478261,\n",
       "        0.95652174, 0.93478261, 0.93478261, 0.93478261, 0.93478261,\n",
       "        0.93478261, 0.93478261, 0.93478261, 0.93478261, 0.93478261,\n",
       "        0.93478261, 0.93478261, 0.93478261, 0.93478261, 0.93478261,\n",
       "        0.93478261, 0.93478261, 0.93478261, 0.93478261, 0.93478261]),\n",
       " 'split6_test_score': array([0.89130435, 0.89130435, 0.93478261, 0.91304348, 0.93478261,\n",
       "        0.93478261, 0.93478261, 0.91304348, 0.93478261, 0.93478261,\n",
       "        0.93478261, 0.93478261, 0.93478261, 0.95652174, 0.95652174,\n",
       "        0.93478261, 0.93478261, 0.93478261, 0.93478261, 0.91304348,\n",
       "        0.93478261, 0.91304348, 0.91304348, 0.91304348, 0.91304348,\n",
       "        0.91304348, 0.91304348, 0.91304348, 0.91304348, 0.91304348]),\n",
       " 'split7_test_score': array([0.91111111, 0.88888889, 0.93333333, 0.91111111, 0.93333333,\n",
       "        0.91111111, 0.93333333, 0.91111111, 0.91111111, 0.91111111,\n",
       "        0.91111111, 0.88888889, 0.88888889, 0.88888889, 0.88888889,\n",
       "        0.88888889, 0.88888889, 0.88888889, 0.88888889, 0.88888889,\n",
       "        0.88888889, 0.91111111, 0.93333333, 0.91111111, 0.93333333,\n",
       "        0.91111111, 0.91111111, 0.93333333, 0.93333333, 0.93333333]),\n",
       " 'split8_test_score': array([0.97727273, 0.95454545, 0.97727273, 0.95454545, 0.95454545,\n",
       "        0.95454545, 0.95454545, 0.95454545, 0.95454545, 0.95454545,\n",
       "        0.97727273, 0.97727273, 0.97727273, 0.97727273, 0.97727273,\n",
       "        0.97727273, 0.97727273, 0.97727273, 0.97727273, 0.97727273,\n",
       "        0.97727273, 0.97727273, 0.97727273, 0.95454545, 0.95454545,\n",
       "        0.95454545, 0.95454545, 0.95454545, 0.95454545, 0.95454545]),\n",
       " 'split9_test_score': array([0.90909091, 0.93181818, 0.95454545, 0.95454545, 0.95454545,\n",
       "        0.95454545, 0.95454545, 0.95454545, 0.95454545, 0.95454545,\n",
       "        0.95454545, 0.95454545, 0.95454545, 0.95454545, 0.95454545,\n",
       "        0.95454545, 0.95454545, 0.95454545, 0.95454545, 0.95454545,\n",
       "        0.95454545, 0.95454545, 0.95454545, 0.93181818, 0.93181818,\n",
       "        0.90909091, 0.93181818, 0.90909091, 0.90909091, 0.90909091]),\n",
       " 'mean_test_score': array([0.94065934, 0.94945055, 0.96263736, 0.95604396, 0.96043956,\n",
       "        0.95824176, 0.96263736, 0.95824176, 0.96263736, 0.95824176,\n",
       "        0.96263736, 0.95604396, 0.95604396, 0.95604396, 0.95604396,\n",
       "        0.95164835, 0.95164835, 0.95164835, 0.95164835, 0.94945055,\n",
       "        0.95384615, 0.94945055, 0.94945055, 0.94505495, 0.94945055,\n",
       "        0.94285714, 0.94505495, 0.94505495, 0.94505495, 0.94505495]),\n",
       " 'std_test_score': array([0.03124062, 0.03569335, 0.02208623, 0.02955283, 0.01931408,\n",
       "        0.0251346 , 0.02223324, 0.02868556, 0.02632228, 0.02696859,\n",
       "        0.02619823, 0.02960423, 0.02960423, 0.02617818, 0.02617818,\n",
       "        0.025725  , 0.025725  , 0.025725  , 0.025725  , 0.02790804,\n",
       "        0.02694708, 0.02196891, 0.01948446, 0.02045779, 0.01992531,\n",
       "        0.02284348, 0.02045779, 0.02064682, 0.02064682, 0.02064682]),\n",
       " 'rank_test_score': array([30, 19,  1,  9,  5,  6,  1,  6,  1,  6,  1,  9,  9,  9,  9, 15, 15,\n",
       "        15, 15, 19, 14, 19, 19, 24, 19, 29, 24, 24, 24, 24]),\n",
       " 'split0_train_score': array([1.        , 0.96577017, 0.97799511, 0.96821516, 0.97555012,\n",
       "        0.9608802 , 0.96332518, 0.9608802 , 0.96577017, 0.9608802 ,\n",
       "        0.96821516, 0.95843521, 0.96332518, 0.9608802 , 0.9608802 ,\n",
       "        0.95354523, 0.95599022, 0.95110024, 0.95354523, 0.95110024,\n",
       "        0.95110024, 0.94865526, 0.95354523, 0.95354523, 0.95599022,\n",
       "        0.94865526, 0.95354523, 0.95354523, 0.95354523, 0.94621027]),\n",
       " 'split1_train_score': array([1.        , 0.96821516, 0.97310513, 0.96821516, 0.97310513,\n",
       "        0.96577017, 0.96821516, 0.96821516, 0.97066015, 0.96821516,\n",
       "        0.96821516, 0.96332518, 0.9608802 , 0.9608802 , 0.9608802 ,\n",
       "        0.95843521, 0.95843521, 0.95110024, 0.95110024, 0.95354523,\n",
       "        0.95599022, 0.95354523, 0.95843521, 0.95599022, 0.95843521,\n",
       "        0.95599022, 0.95599022, 0.95354523, 0.95354523, 0.95354523]),\n",
       " 'split2_train_score': array([1.        , 0.96821516, 0.9804401 , 0.96577017, 0.96821516,\n",
       "        0.96332518, 0.9608802 , 0.96332518, 0.97310513, 0.96577017,\n",
       "        0.96821516, 0.96577017, 0.96821516, 0.96332518, 0.96332518,\n",
       "        0.95110024, 0.95110024, 0.95110024, 0.95354523, 0.95110024,\n",
       "        0.95354523, 0.95354523, 0.95354523, 0.95110024, 0.95110024,\n",
       "        0.95110024, 0.95110024, 0.94865526, 0.95110024, 0.94865526]),\n",
       " 'split3_train_score': array([1.        , 0.96577017, 0.97555012, 0.97310513, 0.97799511,\n",
       "        0.96577017, 0.96577017, 0.96332518, 0.97066015, 0.96577017,\n",
       "        0.97310513, 0.96332518, 0.96577017, 0.95843521, 0.95843521,\n",
       "        0.95599022, 0.95843521, 0.95110024, 0.95354523, 0.94865526,\n",
       "        0.95110024, 0.94865526, 0.95110024, 0.95110024, 0.95110024,\n",
       "        0.94865526, 0.95354523, 0.94865526, 0.95110024, 0.94376528]),\n",
       " 'split4_train_score': array([1.        , 0.96821516, 0.97310513, 0.97066015, 0.97310513,\n",
       "        0.96332518, 0.96577017, 0.96577017, 0.97555012, 0.96577017,\n",
       "        0.96577017, 0.96821516, 0.96577017, 0.9608802 , 0.96332518,\n",
       "        0.95843521, 0.96332518, 0.94865526, 0.95843521, 0.94865526,\n",
       "        0.95354523, 0.94865526, 0.95354523, 0.94621027, 0.95110024,\n",
       "        0.94621027, 0.95110024, 0.94621027, 0.95110024, 0.94621027]),\n",
       " 'split5_train_score': array([1.        , 0.97555012, 0.98288509, 0.97799511, 0.9804401 ,\n",
       "        0.97066015, 0.97066015, 0.97310513, 0.97310513, 0.97066015,\n",
       "        0.97555012, 0.96577017, 0.9608802 , 0.9608802 , 0.96577017,\n",
       "        0.9608802 , 0.96332518, 0.9608802 , 0.96332518, 0.95843521,\n",
       "        0.9608802 , 0.9608802 , 0.95843521, 0.95843521, 0.95599022,\n",
       "        0.95599022, 0.9608802 , 0.95599022, 0.95843521, 0.95354523]),\n",
       " 'split6_train_score': array([1.        , 0.97555012, 0.98288509, 0.97310513, 0.97799511,\n",
       "        0.96821516, 0.97310513, 0.97066015, 0.97799511, 0.96577017,\n",
       "        0.96821516, 0.96332518, 0.96577017, 0.95599022, 0.9608802 ,\n",
       "        0.95599022, 0.95843521, 0.95599022, 0.95843521, 0.95599022,\n",
       "        0.95599022, 0.95599022, 0.95354523, 0.95110024, 0.95599022,\n",
       "        0.95599022, 0.9608802 , 0.95110024, 0.95599022, 0.95110024]),\n",
       " 'split7_train_score': array([1.        , 0.97073171, 0.98292683, 0.97073171, 0.97073171,\n",
       "        0.96341463, 0.96341463, 0.96585366, 0.97073171, 0.97073171,\n",
       "        0.97073171, 0.97073171, 0.96829268, 0.96585366, 0.96829268,\n",
       "        0.96097561, 0.96097561, 0.95609756, 0.95853659, 0.95609756,\n",
       "        0.95609756, 0.95609756, 0.95853659, 0.95609756, 0.95609756,\n",
       "        0.95853659, 0.95853659, 0.95609756, 0.95609756, 0.95365854]),\n",
       " 'split8_train_score': array([1.        , 0.96836983, 0.97810219, 0.96836983, 0.97323601,\n",
       "        0.96836983, 0.96593674, 0.96107056, 0.96593674, 0.96350365,\n",
       "        0.96593674, 0.95863747, 0.96107056, 0.95620438, 0.95620438,\n",
       "        0.95620438, 0.95620438, 0.9513382 , 0.95620438, 0.9513382 ,\n",
       "        0.9513382 , 0.9513382 , 0.94890511, 0.9513382 , 0.9513382 ,\n",
       "        0.94890511, 0.94890511, 0.94647202, 0.94647202, 0.94647202]),\n",
       " 'split9_train_score': array([1.        , 0.9756691 , 0.98053528, 0.9756691 , 0.97810219,\n",
       "        0.96836983, 0.97323601, 0.97323601, 0.9756691 , 0.97080292,\n",
       "        0.9756691 , 0.96593674, 0.96836983, 0.96350365, 0.96350365,\n",
       "        0.95620438, 0.96350365, 0.95377129, 0.95863747, 0.95377129,\n",
       "        0.95377129, 0.9513382 , 0.9513382 , 0.94890511, 0.95377129,\n",
       "        0.9513382 , 0.9513382 , 0.9513382 , 0.9513382 , 0.94890511]),\n",
       " 'mean_train_score': array([1.        , 0.97020567, 0.97875301, 0.97118367, 0.97484758,\n",
       "        0.96581005, 0.96703135, 0.96654414, 0.97191835, 0.96678745,\n",
       "        0.96996236, 0.96434722, 0.96483443, 0.96068331, 0.9621497 ,\n",
       "        0.95677609, 0.95897301, 0.95311337, 0.956531  , 0.95286887,\n",
       "        0.95433586, 0.95287006, 0.95409315, 0.95238225, 0.95409137,\n",
       "        0.95213716, 0.95458215, 0.95116095, 0.95287244, 0.94920675]),\n",
       " 'std_train_score': array([0.        , 0.00376638, 0.00364205, 0.00359479, 0.00363008,\n",
       "        0.00291216, 0.00398736, 0.00437494, 0.00380993, 0.00313904,\n",
       "        0.00346771, 0.00364672, 0.00293652, 0.00298264, 0.00330787,\n",
       "        0.00290736, 0.00376604, 0.00342308, 0.00343827, 0.00310695,\n",
       "        0.00287922, 0.00378435, 0.00319554, 0.00347874, 0.00261215,\n",
       "        0.00396265, 0.00407555, 0.00343728, 0.00323594, 0.00341306])}"
      ]
     },
     "execution_count": 433,
     "metadata": {},
     "output_type": "execute_result"
    }
   ],
   "source": [
    "# view the complete results (list of named tuples)\n",
    "grid.cv_results_\n"
   ]
  },
  {
   "cell_type": "markdown",
   "metadata": {},
   "source": [
    "In every split, it trains and tests with different k values in range of k."
   ]
  },
  {
   "cell_type": "code",
   "execution_count": 434,
   "metadata": {
    "scrolled": true
   },
   "outputs": [
    {
     "name": "stdout",
     "output_type": "stream",
     "text": [
      "Parameters\n",
      "{'n_neighbors': 1}\n",
      "\n",
      "CV mean train score\n",
      "[1.         0.97020567 0.97875301 0.97118367 0.97484758 0.96581005\n",
      " 0.96703135 0.96654414 0.97191835 0.96678745 0.96996236 0.96434722\n",
      " 0.96483443 0.96068331 0.9621497  0.95677609 0.95897301 0.95311337\n",
      " 0.956531   0.95286887 0.95433586 0.95287006 0.95409315 0.95238225\n",
      " 0.95409137 0.95213716 0.95458215 0.95116095 0.95287244 0.94920675]\n",
      "\n",
      " CV Mean test score\n",
      "[0.94065934 0.94945055 0.96263736 0.95604396 0.96043956 0.95824176\n",
      " 0.96263736 0.95824176 0.96263736 0.95824176 0.96263736 0.95604396\n",
      " 0.95604396 0.95604396 0.95604396 0.95164835 0.95164835 0.95164835\n",
      " 0.95164835 0.94945055 0.95384615 0.94945055 0.94945055 0.94505495\n",
      " 0.94945055 0.94285714 0.94505495 0.94505495 0.94505495 0.94505495]\n"
     ]
    }
   ],
   "source": [
    "# examine the first tuple\n",
    "#  Cross validated scores\n",
    "print('Parameters')\n",
    "print(grid.cv_results_[\"params\"][0])\n",
    "\n",
    "# Array of 10 accuracy scores during 10-fold cv using the parameters\n",
    "print('')\n",
    "print('CV mean train score')\n",
    "print(grid.cv_results_[\"mean_train_score\"])\n",
    "\n",
    "# Mean of the 10 scores\n",
    "print('')\n",
    "print(' CV Mean test score')\n",
    "print(grid.cv_results_['mean_test_score'])"
   ]
  },
  {
   "cell_type": "code",
   "execution_count": 435,
   "metadata": {},
   "outputs": [
    {
     "data": {
      "text/plain": [
       "Text(0, 0.5, 'mean train score')"
      ]
     },
     "execution_count": 435,
     "metadata": {},
     "output_type": "execute_result"
    },
    {
     "data": {
      "image/png": "[encoded data removed]",
      "text/plain": [
       "<Figure size 432x288 with 1 Axes>"
      ]
     },
     "metadata": {},
     "output_type": "display_data"
    }
   ],
   "source": [
    "# plot the results\n",
    "plt.plot(k_range,grid.cv_results_[\"mean_train_score\"])\n",
    "plt.xlabel('Value of K for KNN')\n",
    "plt.ylabel('mean train score')"
   ]
  },
  {
   "cell_type": "code",
   "execution_count": 436,
   "metadata": {},
   "outputs": [
    {
     "data": {
      "text/plain": [
       "Text(0, 0.5, 'mean test score')"
      ]
     },
     "execution_count": 436,
     "metadata": {},
     "output_type": "execute_result"
    },
    {
     "data": {
      "image/png": "[encoded data removed]",
      "text/plain": [
       "<Figure size 432x288 with 1 Axes>"
      ]
     },
     "metadata": {},
     "output_type": "display_data"
    }
   ],
   "source": [
    "# plot the results\n",
    "plt.plot(k_range, grid.cv_results_['mean_test_score'])\n",
    "plt.xlabel('Value of K for KNN')\n",
    "plt.ylabel('mean test score')"
   ]
  },
  {
   "cell_type": "code",
   "execution_count": 437,
   "metadata": {},
   "outputs": [
    {
     "name": "stdout",
     "output_type": "stream",
     "text": [
      "0.9626373626373627\n",
      "{'n_neighbors': 3}\n",
      "KNeighborsClassifier(algorithm='auto', leaf_size=30, metric='minkowski',\n",
      "           metric_params=None, n_jobs=None, n_neighbors=3, p=2,\n",
      "           weights='uniform')\n"
     ]
    }
   ],
   "source": [
    "# examine the best model\n",
    "\n",
    "# Single best score achieved across all params (k)\n",
    "print(grid.best_score_)\n",
    "\n",
    "# Dictionary containing the parameters (k) used to generate that score\n",
    "print(grid.best_params_)\n",
    "\n",
    "# Actual model object fit with those best parameters\n",
    "# Shows default parameters that we did not specify\n",
    "print(grid.best_estimator_)"
   ]
  },
  {
   "cell_type": "markdown",
   "metadata": {},
   "source": [
    "From Cross validation the best k value is 3\n",
    "default distance is Euclidean\n",
    "Accuracy with best K value is 96%"
   ]
  },
  {
   "cell_type": "code",
   "execution_count": 438,
   "metadata": {},
   "outputs": [],
   "source": [
    "# Cross validation with hyper parametertuning with weight options uniform and distance\n",
    "# define the parameter values that should be searched\n",
    "k_range = list(range(1, 31))\n",
    "\n",
    "# Another parameter besides k that we might vary is the weights parameters\n",
    "# default options --> uniform (all points in the neighborhood are weighted equally)\n",
    "# another option --> distance (weights closer neighbors more heavily than further neighbors)\n",
    "\n",
    "# we create a list\n",
    "weight_options = ['uniform', 'distance']"
   ]
  },
  {
   "cell_type": "code",
   "execution_count": 439,
   "metadata": {},
   "outputs": [
    {
     "name": "stdout",
     "output_type": "stream",
     "text": [
      "{'n_neighbors': [1, 2, 3, 4, 5, 6, 7, 8, 9, 10, 11, 12, 13, 14, 15, 16, 17, 18, 19, 20, 21, 22, 23, 24, 25, 26, 27, 28, 29, 30], 'weights': ['uniform', 'distance']}\n"
     ]
    }
   ],
   "source": [
    "# created a parameter grid: map the parameter names to the values that should be searched\n",
    "# dictionary = dict(key=values, key=values)\n",
    "param_grid = dict(n_neighbors=k_range, weights=weight_options)\n",
    "print(param_grid)"
   ]
  },
  {
   "cell_type": "code",
   "execution_count": 440,
   "metadata": {},
   "outputs": [
    {
     "data": {
      "text/plain": [
       "GridSearchCV(cv=10, error_score='raise-deprecating',\n",
       "       estimator=KNeighborsClassifier(algorithm='auto', leaf_size=30, metric='minkowski',\n",
       "           metric_params=None, n_jobs=None, n_neighbors=39, p=2,\n",
       "           weights='uniform'),\n",
       "       fit_params=None, iid='warn', n_jobs=None,\n",
       "       param_grid={'n_neighbors': [1, 2, 3, 4, 5, 6, 7, 8, 9, 10, 11, 12, 13, 14, 15, 16, 17, 18, 19, 20, 21, 22, 23, 24, 25, 26, 27, 28, 29, 30], 'weights': ['uniform', 'distance']},\n",
       "       pre_dispatch='2*n_jobs', refit=True, return_train_score='warn',\n",
       "       scoring='accuracy', verbose=0)"
      ]
     },
     "execution_count": 440,
     "metadata": {},
     "output_type": "execute_result"
    }
   ],
   "source": [
    "# instantiate and fit the grid\n",
    "# exhaustive grid-search because it's trying every combination\n",
    "# 10-fold cross-validation is being performed 30 x 2 = 60 times\n",
    "\n",
    "grid = GridSearchCV(knn, param_grid, cv=10, scoring='accuracy')\n",
    "grid.fit(X_train, y_train)"
   ]
  },
  {
   "cell_type": "code",
   "execution_count": 441,
   "metadata": {},
   "outputs": [
    {
     "data": {
      "text/plain": [
       "{'mean_fit_time': array([0.00249674, 0.00119638, 0.00110099, 0.00100143, 0.00129831,\n",
       "        0.00119729, 0.00109353, 0.0011003 , 0.00109792, 0.00109675,\n",
       "        0.0011884 , 0.00119963, 0.00159314, 0.00149632, 0.00099638,\n",
       "        0.00089705, 0.00109694, 0.00139663, 0.00268817, 0.00119736,\n",
       "        0.00119674, 0.0012006 , 0.00099421, 0.00099275, 0.00109277,\n",
       "        0.00110173, 0.0010983 , 0.00099595, 0.00110691, 0.00099149,\n",
       "        0.00109725, 0.00109727, 0.00110004, 0.00129848, 0.00098999,\n",
       "        0.00109727, 0.00120173, 0.00100071, 0.00109751, 0.00099735,\n",
       "        0.00099318, 0.00109708, 0.00099382, 0.00119267, 0.00109816,\n",
       "        0.00120027, 0.00150051, 0.00149577, 0.00089831, 0.00099168,\n",
       "        0.00109949, 0.00109854, 0.00109446, 0.00099328, 0.00109596,\n",
       "        0.00100281, 0.00120239, 0.00120132, 0.00099912, 0.0009968 ]),\n",
       " 'std_fit_time': array([1.28628710e-03, 3.97512402e-04, 2.98412002e-04, 9.46858008e-06,\n",
       "        4.49584344e-04, 3.98016447e-04, 2.86215505e-04, 2.98345277e-04,\n",
       "        3.12807865e-04, 2.99775417e-04, 3.92942741e-04, 3.98179688e-04,\n",
       "        1.20217478e-03, 4.98391706e-04, 1.32938403e-06, 2.99590572e-04,\n",
       "        2.98828134e-04, 4.97483700e-04, 1.94168796e-03, 6.02168255e-04,\n",
       "        3.98876609e-04, 4.04766558e-04, 9.70630117e-06, 1.24578898e-05,\n",
       "        3.01453970e-04, 2.87630885e-04, 2.98920581e-04, 1.71303542e-05,\n",
       "        2.96804589e-04, 1.33536541e-05, 2.99042918e-04, 2.98635903e-04,\n",
       "        2.98403030e-04, 4.57576796e-04, 1.62681332e-05, 2.99036061e-04,\n",
       "        3.97134668e-04, 9.15170267e-06, 2.99035966e-04, 1.18635705e-06,\n",
       "        1.40193571e-05, 2.99022473e-04, 1.02825596e-05, 3.98999503e-04,\n",
       "        3.02394847e-04, 4.05465897e-04, 4.94480147e-04, 6.68870354e-04,\n",
       "        2.99454605e-04, 1.47277083e-05, 2.98631071e-04, 3.02903391e-04,\n",
       "        3.03895811e-04, 1.40341082e-05, 2.87481536e-04, 1.25243302e-05,\n",
       "        3.98582841e-04, 4.07127046e-04, 5.15690072e-06, 2.22497042e-06]),\n",
       " 'mean_score_time': array([0.00259061, 0.00149958, 0.00119934, 0.00148537, 0.00129611,\n",
       "        0.00159855, 0.00140402, 0.00169652, 0.00159376, 0.00139329,\n",
       "        0.00190294, 0.00148904, 0.00229588, 0.00269306, 0.00149891,\n",
       "        0.00190284, 0.00169549, 0.0016916 , 0.00279191, 0.00268769,\n",
       "        0.00179348, 0.00159669, 0.00179532, 0.001899  , 0.0016    ,\n",
       "        0.00158694, 0.00159826, 0.00179069, 0.00179422, 0.00169761,\n",
       "        0.0015929 , 0.00140011, 0.00189693, 0.0016037 , 0.00179825,\n",
       "        0.00159175, 0.00179491, 0.00179164, 0.00149505, 0.00149581,\n",
       "        0.00179923, 0.00179155, 0.00179067, 0.00939367, 0.00179839,\n",
       "        0.00159421, 0.00258884, 0.00269279, 0.00179861, 0.00179868,\n",
       "        0.00159597, 0.00179284, 0.00158298, 0.00189006, 0.00189238,\n",
       "        0.00189476, 0.0015996 , 0.00179057, 0.0017906 , 0.00168958]),\n",
       " 'std_score_time': array([0.00149065, 0.00066564, 0.00039806, 0.00050964, 0.00045089,\n",
       "        0.00066419, 0.00048929, 0.00044941, 0.000657  , 0.00049164,\n",
       "        0.00053823, 0.00049761, 0.00063575, 0.0016721 , 0.00050121,\n",
       "        0.00030247, 0.00045692, 0.00064182, 0.0009767 , 0.00134426,\n",
       "        0.00039654, 0.0004814 , 0.0005982 , 0.00030085, 0.00049209,\n",
       "        0.0004829 , 0.00048466, 0.00039695, 0.00060684, 0.00045217,\n",
       "        0.0004932 , 0.00049369, 0.00030007, 0.00049607, 0.00040109,\n",
       "        0.00048625, 0.00039875, 0.00039642, 0.00050522, 0.00049852,\n",
       "        0.00040138, 0.0003973 , 0.00039705, 0.01581039, 0.00060511,\n",
       "        0.00048756, 0.00049379, 0.00045697, 0.00040071, 0.00040084,\n",
       "        0.00048955, 0.00039763, 0.00049427, 0.0002988 , 0.00029875,\n",
       "        0.00029844, 0.00049203, 0.00039689, 0.00059127, 0.00045413]),\n",
       " 'param_n_neighbors': masked_array(data=[1, 1, 2, 2, 3, 3, 4, 4, 5, 5, 6, 6, 7, 7, 8, 8, 9, 9,\n",
       "                    10, 10, 11, 11, 12, 12, 13, 13, 14, 14, 15, 15, 16, 16,\n",
       "                    17, 17, 18, 18, 19, 19, 20, 20, 21, 21, 22, 22, 23, 23,\n",
       "                    24, 24, 25, 25, 26, 26, 27, 27, 28, 28, 29, 29, 30, 30],\n",
       "              mask=[False, False, False, False, False, False, False, False,\n",
       "                    False, False, False, False, False, False, False, False,\n",
       "                    False, False, False, False, False, False, False, False,\n",
       "                    False, False, False, False, False, False, False, False,\n",
       "                    False, False, False, False, False, False, False, False,\n",
       "                    False, False, False, False, False, False, False, False,\n",
       "                    False, False, False, False, False, False, False, False,\n",
       "                    False, False, False, False],\n",
       "        fill_value='?',\n",
       "             dtype=object),\n",
       " 'param_weights': masked_array(data=['uniform', 'distance', 'uniform', 'distance',\n",
       "                    'uniform', 'distance', 'uniform', 'distance',\n",
       "                    'uniform', 'distance', 'uniform', 'distance',\n",
       "                    'uniform', 'distance', 'uniform', 'distance',\n",
       "                    'uniform', 'distance', 'uniform', 'distance',\n",
       "                    'uniform', 'distance', 'uniform', 'distance',\n",
       "                    'uniform', 'distance', 'uniform', 'distance',\n",
       "                    'uniform', 'distance', 'uniform', 'distance',\n",
       "                    'uniform', 'distance', 'uniform', 'distance',\n",
       "                    'uniform', 'distance', 'uniform', 'distance',\n",
       "                    'uniform', 'distance', 'uniform', 'distance',\n",
       "                    'uniform', 'distance', 'uniform', 'distance',\n",
       "                    'uniform', 'distance', 'uniform', 'distance',\n",
       "                    'uniform', 'distance', 'uniform', 'distance',\n",
       "                    'uniform', 'distance', 'uniform', 'distance'],\n",
       "              mask=[False, False, False, False, False, False, False, False,\n",
       "                    False, False, False, False, False, False, False, False,\n",
       "                    False, False, False, False, False, False, False, False,\n",
       "                    False, False, False, False, False, False, False, False,\n",
       "                    False, False, False, False, False, False, False, False,\n",
       "                    False, False, False, False, False, False, False, False,\n",
       "                    False, False, False, False, False, False, False, False,\n",
       "                    False, False, False, False],\n",
       "        fill_value='?',\n",
       "             dtype=object),\n",
       " 'params': [{'n_neighbors': 1, 'weights': 'uniform'},\n",
       "  {'n_neighbors': 1, 'weights': 'distance'},\n",
       "  {'n_neighbors': 2, 'weights': 'uniform'},\n",
       "  {'n_neighbors': 2, 'weights': 'distance'},\n",
       "  {'n_neighbors': 3, 'weights': 'uniform'},\n",
       "  {'n_neighbors': 3, 'weights': 'distance'},\n",
       "  {'n_neighbors': 4, 'weights': 'uniform'},\n",
       "  {'n_neighbors': 4, 'weights': 'distance'},\n",
       "  {'n_neighbors': 5, 'weights': 'uniform'},\n",
       "  {'n_neighbors': 5, 'weights': 'distance'},\n",
       "  {'n_neighbors': 6, 'weights': 'uniform'},\n",
       "  {'n_neighbors': 6, 'weights': 'distance'},\n",
       "  {'n_neighbors': 7, 'weights': 'uniform'},\n",
       "  {'n_neighbors': 7, 'weights': 'distance'},\n",
       "  {'n_neighbors': 8, 'weights': 'uniform'},\n",
       "  {'n_neighbors': 8, 'weights': 'distance'},\n",
       "  {'n_neighbors': 9, 'weights': 'uniform'},\n",
       "  {'n_neighbors': 9, 'weights': 'distance'},\n",
       "  {'n_neighbors': 10, 'weights': 'uniform'},\n",
       "  {'n_neighbors': 10, 'weights': 'distance'},\n",
       "  {'n_neighbors': 11, 'weights': 'uniform'},\n",
       "  {'n_neighbors': 11, 'weights': 'distance'},\n",
       "  {'n_neighbors': 12, 'weights': 'uniform'},\n",
       "  {'n_neighbors': 12, 'weights': 'distance'},\n",
       "  {'n_neighbors': 13, 'weights': 'uniform'},\n",
       "  {'n_neighbors': 13, 'weights': 'distance'},\n",
       "  {'n_neighbors': 14, 'weights': 'uniform'},\n",
       "  {'n_neighbors': 14, 'weights': 'distance'},\n",
       "  {'n_neighbors': 15, 'weights': 'uniform'},\n",
       "  {'n_neighbors': 15, 'weights': 'distance'},\n",
       "  {'n_neighbors': 16, 'weights': 'uniform'},\n",
       "  {'n_neighbors': 16, 'weights': 'distance'},\n",
       "  {'n_neighbors': 17, 'weights': 'uniform'},\n",
       "  {'n_neighbors': 17, 'weights': 'distance'},\n",
       "  {'n_neighbors': 18, 'weights': 'uniform'},\n",
       "  {'n_neighbors': 18, 'weights': 'distance'},\n",
       "  {'n_neighbors': 19, 'weights': 'uniform'},\n",
       "  {'n_neighbors': 19, 'weights': 'distance'},\n",
       "  {'n_neighbors': 20, 'weights': 'uniform'},\n",
       "  {'n_neighbors': 20, 'weights': 'distance'},\n",
       "  {'n_neighbors': 21, 'weights': 'uniform'},\n",
       "  {'n_neighbors': 21, 'weights': 'distance'},\n",
       "  {'n_neighbors': 22, 'weights': 'uniform'},\n",
       "  {'n_neighbors': 22, 'weights': 'distance'},\n",
       "  {'n_neighbors': 23, 'weights': 'uniform'},\n",
       "  {'n_neighbors': 23, 'weights': 'distance'},\n",
       "  {'n_neighbors': 24, 'weights': 'uniform'},\n",
       "  {'n_neighbors': 24, 'weights': 'distance'},\n",
       "  {'n_neighbors': 25, 'weights': 'uniform'},\n",
       "  {'n_neighbors': 25, 'weights': 'distance'},\n",
       "  {'n_neighbors': 26, 'weights': 'uniform'},\n",
       "  {'n_neighbors': 26, 'weights': 'distance'},\n",
       "  {'n_neighbors': 27, 'weights': 'uniform'},\n",
       "  {'n_neighbors': 27, 'weights': 'distance'},\n",
       "  {'n_neighbors': 28, 'weights': 'uniform'},\n",
       "  {'n_neighbors': 28, 'weights': 'distance'},\n",
       "  {'n_neighbors': 29, 'weights': 'uniform'},\n",
       "  {'n_neighbors': 29, 'weights': 'distance'},\n",
       "  {'n_neighbors': 30, 'weights': 'uniform'},\n",
       "  {'n_neighbors': 30, 'weights': 'distance'}],\n",
       " 'split0_test_score': array([0.95652174, 0.95652174, 0.97826087, 0.95652174, 0.97826087,\n",
       "        0.97826087, 1.        , 0.97826087, 0.97826087, 0.97826087,\n",
       "        1.        , 0.97826087, 1.        , 1.        , 1.        ,\n",
       "        1.        , 1.        , 1.        , 1.        , 1.        ,\n",
       "        1.        , 1.        , 1.        , 1.        , 1.        ,\n",
       "        1.        , 0.97826087, 1.        , 0.97826087, 0.97826087,\n",
       "        0.97826087, 0.97826087, 0.97826087, 0.97826087, 0.97826087,\n",
       "        0.97826087, 0.97826087, 0.97826087, 0.97826087, 0.97826087,\n",
       "        0.97826087, 0.97826087, 0.97826087, 0.95652174, 0.97826087,\n",
       "        0.97826087, 0.97826087, 0.95652174, 0.97826087, 0.97826087,\n",
       "        0.97826087, 0.97826087, 0.97826087, 0.97826087, 0.97826087,\n",
       "        0.97826087, 0.97826087, 0.97826087, 0.97826087, 0.95652174]),\n",
       " 'split1_test_score': array([0.95652174, 0.95652174, 0.97826087, 0.95652174, 0.97826087,\n",
       "        0.97826087, 0.97826087, 0.97826087, 0.97826087, 0.97826087,\n",
       "        0.95652174, 0.97826087, 0.97826087, 0.97826087, 0.97826087,\n",
       "        0.97826087, 0.97826087, 0.97826087, 0.97826087, 0.97826087,\n",
       "        0.97826087, 0.97826087, 0.97826087, 0.97826087, 0.97826087,\n",
       "        0.97826087, 0.97826087, 0.97826087, 0.97826087, 0.97826087,\n",
       "        0.95652174, 0.97826087, 0.95652174, 0.97826087, 0.95652174,\n",
       "        0.97826087, 0.95652174, 0.97826087, 0.95652174, 0.95652174,\n",
       "        0.95652174, 0.97826087, 0.95652174, 0.95652174, 0.95652174,\n",
       "        0.95652174, 0.95652174, 0.95652174, 0.95652174, 0.95652174,\n",
       "        0.95652174, 0.95652174, 0.95652174, 0.95652174, 0.95652174,\n",
       "        0.95652174, 0.95652174, 0.95652174, 0.95652174, 0.95652174]),\n",
       " 'split2_test_score': array([0.97826087, 0.97826087, 1.        , 0.97826087, 1.        ,\n",
       "        1.        , 1.        , 1.        , 1.        , 1.        ,\n",
       "        1.        , 1.        , 1.        , 1.        , 1.        ,\n",
       "        1.        , 1.        , 1.        , 1.        , 1.        ,\n",
       "        1.        , 1.        , 0.97826087, 1.        , 0.97826087,\n",
       "        0.97826087, 0.97826087, 1.        , 0.97826087, 0.97826087,\n",
       "        0.97826087, 0.97826087, 0.97826087, 0.97826087, 0.97826087,\n",
       "        0.97826087, 0.97826087, 0.97826087, 0.97826087, 0.97826087,\n",
       "        0.97826087, 0.97826087, 0.95652174, 0.97826087, 0.93478261,\n",
       "        0.97826087, 0.95652174, 0.95652174, 0.95652174, 0.97826087,\n",
       "        0.95652174, 0.97826087, 0.95652174, 0.97826087, 0.95652174,\n",
       "        0.95652174, 0.95652174, 0.95652174, 0.95652174, 0.95652174]),\n",
       " 'split3_test_score': array([0.97826087, 0.97826087, 0.97826087, 0.97826087, 0.97826087,\n",
       "        0.97826087, 0.95652174, 0.97826087, 0.95652174, 0.95652174,\n",
       "        0.95652174, 0.95652174, 0.95652174, 0.95652174, 0.95652174,\n",
       "        0.95652174, 0.95652174, 0.95652174, 0.95652174, 0.95652174,\n",
       "        0.95652174, 0.95652174, 0.95652174, 0.95652174, 0.95652174,\n",
       "        0.95652174, 0.95652174, 0.95652174, 0.95652174, 0.95652174,\n",
       "        0.95652174, 0.95652174, 0.95652174, 0.95652174, 0.95652174,\n",
       "        0.95652174, 0.95652174, 0.95652174, 0.95652174, 0.95652174,\n",
       "        0.95652174, 0.95652174, 0.95652174, 0.95652174, 0.95652174,\n",
       "        0.95652174, 0.95652174, 0.95652174, 0.95652174, 0.95652174,\n",
       "        0.95652174, 0.95652174, 0.95652174, 0.95652174, 0.95652174,\n",
       "        0.95652174, 0.95652174, 0.95652174, 0.95652174, 0.95652174]),\n",
       " 'split4_test_score': array([0.91304348, 0.91304348, 0.95652174, 0.91304348, 0.95652174,\n",
       "        0.95652174, 0.95652174, 0.95652174, 0.95652174, 0.95652174,\n",
       "        0.95652174, 0.95652174, 0.95652174, 0.95652174, 0.95652174,\n",
       "        0.95652174, 0.97826087, 0.97826087, 0.95652174, 0.95652174,\n",
       "        0.95652174, 0.95652174, 0.95652174, 0.95652174, 0.95652174,\n",
       "        0.95652174, 0.95652174, 0.95652174, 0.95652174, 0.95652174,\n",
       "        0.95652174, 0.95652174, 0.95652174, 0.95652174, 0.95652174,\n",
       "        0.95652174, 0.95652174, 0.95652174, 0.95652174, 0.95652174,\n",
       "        0.97826087, 0.97826087, 0.95652174, 0.95652174, 0.95652174,\n",
       "        0.95652174, 0.95652174, 0.95652174, 0.97826087, 0.97826087,\n",
       "        0.95652174, 0.95652174, 0.95652174, 0.95652174, 0.95652174,\n",
       "        0.95652174, 0.95652174, 0.95652174, 0.95652174, 0.95652174]),\n",
       " 'split5_test_score': array([0.93478261, 0.93478261, 0.93478261, 0.93478261, 0.93478261,\n",
       "        0.93478261, 0.93478261, 0.93478261, 0.95652174, 0.95652174,\n",
       "        0.95652174, 0.95652174, 0.95652174, 0.95652174, 0.95652174,\n",
       "        0.95652174, 0.95652174, 0.95652174, 0.93478261, 0.93478261,\n",
       "        0.95652174, 0.95652174, 0.93478261, 0.93478261, 0.93478261,\n",
       "        0.93478261, 0.93478261, 0.93478261, 0.93478261, 0.93478261,\n",
       "        0.93478261, 0.93478261, 0.93478261, 0.93478261, 0.93478261,\n",
       "        0.93478261, 0.93478261, 0.93478261, 0.93478261, 0.93478261,\n",
       "        0.93478261, 0.93478261, 0.93478261, 0.93478261, 0.93478261,\n",
       "        0.93478261, 0.93478261, 0.93478261, 0.93478261, 0.93478261,\n",
       "        0.93478261, 0.93478261, 0.93478261, 0.93478261, 0.93478261,\n",
       "        0.93478261, 0.93478261, 0.93478261, 0.93478261, 0.93478261]),\n",
       " 'split6_test_score': array([0.89130435, 0.89130435, 0.89130435, 0.89130435, 0.93478261,\n",
       "        0.93478261, 0.91304348, 0.91304348, 0.93478261, 0.93478261,\n",
       "        0.93478261, 0.93478261, 0.93478261, 0.93478261, 0.91304348,\n",
       "        0.91304348, 0.93478261, 0.93478261, 0.93478261, 0.93478261,\n",
       "        0.93478261, 0.93478261, 0.93478261, 0.93478261, 0.93478261,\n",
       "        0.93478261, 0.95652174, 0.93478261, 0.95652174, 0.95652174,\n",
       "        0.93478261, 0.93478261, 0.93478261, 0.93478261, 0.93478261,\n",
       "        0.93478261, 0.93478261, 0.93478261, 0.91304348, 0.93478261,\n",
       "        0.93478261, 0.93478261, 0.91304348, 0.93478261, 0.91304348,\n",
       "        0.93478261, 0.91304348, 0.91304348, 0.91304348, 0.93478261,\n",
       "        0.91304348, 0.93478261, 0.91304348, 0.93478261, 0.91304348,\n",
       "        0.93478261, 0.91304348, 0.91304348, 0.91304348, 0.91304348]),\n",
       " 'split7_test_score': array([0.91111111, 0.91111111, 0.88888889, 0.91111111, 0.93333333,\n",
       "        0.93333333, 0.91111111, 0.95555556, 0.93333333, 0.93333333,\n",
       "        0.91111111, 0.93333333, 0.93333333, 0.93333333, 0.91111111,\n",
       "        0.93333333, 0.91111111, 0.91111111, 0.91111111, 0.91111111,\n",
       "        0.91111111, 0.91111111, 0.88888889, 0.91111111, 0.88888889,\n",
       "        0.91111111, 0.88888889, 0.88888889, 0.88888889, 0.91111111,\n",
       "        0.88888889, 0.88888889, 0.88888889, 0.88888889, 0.88888889,\n",
       "        0.88888889, 0.88888889, 0.88888889, 0.88888889, 0.88888889,\n",
       "        0.88888889, 0.88888889, 0.91111111, 0.88888889, 0.93333333,\n",
       "        0.91111111, 0.91111111, 0.88888889, 0.93333333, 0.91111111,\n",
       "        0.91111111, 0.88888889, 0.91111111, 0.91111111, 0.93333333,\n",
       "        0.91111111, 0.93333333, 0.91111111, 0.93333333, 0.93333333]),\n",
       " 'split8_test_score': array([0.97727273, 0.97727273, 0.95454545, 0.97727273, 0.97727273,\n",
       "        0.97727273, 0.95454545, 0.97727273, 0.95454545, 0.95454545,\n",
       "        0.95454545, 0.95454545, 0.95454545, 0.95454545, 0.95454545,\n",
       "        0.95454545, 0.95454545, 0.95454545, 0.95454545, 0.95454545,\n",
       "        0.97727273, 0.97727273, 0.97727273, 0.97727273, 0.97727273,\n",
       "        0.97727273, 0.97727273, 0.97727273, 0.97727273, 0.97727273,\n",
       "        0.97727273, 0.97727273, 0.97727273, 0.97727273, 0.97727273,\n",
       "        0.97727273, 0.97727273, 0.97727273, 0.97727273, 0.97727273,\n",
       "        0.97727273, 0.97727273, 0.97727273, 0.97727273, 0.97727273,\n",
       "        0.97727273, 0.95454545, 0.97727273, 0.95454545, 0.97727273,\n",
       "        0.95454545, 0.97727273, 0.95454545, 0.97727273, 0.95454545,\n",
       "        0.97727273, 0.95454545, 0.95454545, 0.95454545, 0.95454545]),\n",
       " 'split9_test_score': array([0.90909091, 0.90909091, 0.93181818, 0.90909091, 0.95454545,\n",
       "        0.95454545, 0.95454545, 0.95454545, 0.95454545, 0.95454545,\n",
       "        0.95454545, 0.95454545, 0.95454545, 0.95454545, 0.95454545,\n",
       "        0.95454545, 0.95454545, 0.95454545, 0.95454545, 0.95454545,\n",
       "        0.95454545, 0.95454545, 0.95454545, 0.95454545, 0.95454545,\n",
       "        0.95454545, 0.95454545, 0.95454545, 0.95454545, 0.95454545,\n",
       "        0.95454545, 0.95454545, 0.95454545, 0.95454545, 0.95454545,\n",
       "        0.95454545, 0.95454545, 0.95454545, 0.95454545, 0.95454545,\n",
       "        0.95454545, 0.95454545, 0.95454545, 0.95454545, 0.95454545,\n",
       "        0.95454545, 0.93181818, 0.95454545, 0.93181818, 0.95454545,\n",
       "        0.90909091, 0.95454545, 0.93181818, 0.95454545, 0.90909091,\n",
       "        0.95454545, 0.90909091, 0.93181818, 0.90909091, 0.93181818]),\n",
       " 'mean_test_score': array([0.94065934, 0.94065934, 0.94945055, 0.94065934, 0.96263736,\n",
       "        0.96263736, 0.95604396, 0.96263736, 0.96043956, 0.96043956,\n",
       "        0.95824176, 0.96043956, 0.96263736, 0.96263736, 0.95824176,\n",
       "        0.96043956, 0.96263736, 0.96263736, 0.95824176, 0.95824176,\n",
       "        0.96263736, 0.96263736, 0.95604396, 0.96043956, 0.95604396,\n",
       "        0.95824176, 0.95604396, 0.95824176, 0.95604396, 0.95824176,\n",
       "        0.95164835, 0.95384615, 0.95164835, 0.95384615, 0.95164835,\n",
       "        0.95384615, 0.95164835, 0.95384615, 0.94945055, 0.95164835,\n",
       "        0.95384615, 0.95604396, 0.94945055, 0.94945055, 0.94945055,\n",
       "        0.95384615, 0.94505495, 0.94505495, 0.94945055, 0.95604396,\n",
       "        0.94285714, 0.95164835, 0.94505495, 0.95384615, 0.94505495,\n",
       "        0.95164835, 0.94505495, 0.94505495, 0.94505495, 0.94505495]),\n",
       " 'std_test_score': array([0.03124062, 0.03124062, 0.03569335, 0.03124062, 0.02208623,\n",
       "        0.02208623, 0.02955283, 0.02404266, 0.01931408, 0.01931408,\n",
       "        0.0251346 , 0.01931408, 0.02223324, 0.02223324, 0.02868556,\n",
       "        0.02568469, 0.02632228, 0.02632228, 0.02696859, 0.02696859,\n",
       "        0.02619823, 0.02619823, 0.02960423, 0.02749867, 0.02960423,\n",
       "        0.02500466, 0.02617818, 0.03189067, 0.02617818, 0.02083554,\n",
       "        0.025725  , 0.02694708, 0.025725  , 0.02694708, 0.025725  ,\n",
       "        0.02694708, 0.025725  , 0.02694708, 0.02790804, 0.025725  ,\n",
       "        0.02694708, 0.02794376, 0.02196891, 0.02424346, 0.01948446,\n",
       "        0.0207345 , 0.02045779, 0.02453194, 0.01992531, 0.02201427,\n",
       "        0.02284348, 0.025725  , 0.02045779, 0.0207345 , 0.02064682,\n",
       "        0.01911936, 0.02064682, 0.02045779, 0.02064682, 0.01483159]),\n",
       " 'rank_test_score': array([58, 58, 43, 58,  1,  1, 22,  1, 10, 10, 15, 10,  1,  1, 15, 10,  1,\n",
       "         1, 15, 15,  1,  1, 22, 10, 22, 15, 22, 15, 22, 15, 36, 29, 36, 29,\n",
       "        36, 29, 36, 29, 43, 36, 29, 22, 43, 43, 43, 29, 49, 49, 43, 22, 57,\n",
       "        36, 49, 29, 49, 36, 49, 49, 49, 49]),\n",
       " 'split0_train_score': array([1.        , 1.        , 0.96577017, 1.        , 0.97799511,\n",
       "        1.        , 0.96821516, 1.        , 0.97555012, 1.        ,\n",
       "        0.9608802 , 1.        , 0.96332518, 1.        , 0.9608802 ,\n",
       "        1.        , 0.96577017, 1.        , 0.9608802 , 1.        ,\n",
       "        0.96821516, 1.        , 0.95843521, 1.        , 0.96332518,\n",
       "        1.        , 0.9608802 , 1.        , 0.9608802 , 1.        ,\n",
       "        0.95354523, 1.        , 0.95599022, 1.        , 0.95110024,\n",
       "        1.        , 0.95354523, 1.        , 0.95110024, 1.        ,\n",
       "        0.95110024, 1.        , 0.94865526, 1.        , 0.95354523,\n",
       "        1.        , 0.95354523, 1.        , 0.95599022, 1.        ,\n",
       "        0.94865526, 1.        , 0.95354523, 1.        , 0.95354523,\n",
       "        1.        , 0.95354523, 1.        , 0.94621027, 1.        ]),\n",
       " 'split1_train_score': array([1.        , 1.        , 0.96821516, 1.        , 0.97310513,\n",
       "        1.        , 0.96821516, 1.        , 0.97310513, 1.        ,\n",
       "        0.96577017, 1.        , 0.96821516, 1.        , 0.96821516,\n",
       "        1.        , 0.97066015, 1.        , 0.96821516, 1.        ,\n",
       "        0.96821516, 1.        , 0.96332518, 1.        , 0.9608802 ,\n",
       "        1.        , 0.9608802 , 1.        , 0.9608802 , 1.        ,\n",
       "        0.95843521, 1.        , 0.95843521, 1.        , 0.95110024,\n",
       "        1.        , 0.95110024, 1.        , 0.95354523, 1.        ,\n",
       "        0.95599022, 1.        , 0.95354523, 1.        , 0.95843521,\n",
       "        1.        , 0.95599022, 1.        , 0.95843521, 1.        ,\n",
       "        0.95599022, 1.        , 0.95599022, 1.        , 0.95354523,\n",
       "        1.        , 0.95354523, 1.        , 0.95354523, 1.        ]),\n",
       " 'split2_train_score': array([1.        , 1.        , 0.96821516, 1.        , 0.9804401 ,\n",
       "        1.        , 0.96577017, 1.        , 0.96821516, 1.        ,\n",
       "        0.96332518, 1.        , 0.9608802 , 1.        , 0.96332518,\n",
       "        1.        , 0.97310513, 1.        , 0.96577017, 1.        ,\n",
       "        0.96821516, 1.        , 0.96577017, 1.        , 0.96821516,\n",
       "        1.        , 0.96332518, 1.        , 0.96332518, 1.        ,\n",
       "        0.95110024, 1.        , 0.95110024, 1.        , 0.95110024,\n",
       "        1.        , 0.95354523, 1.        , 0.95110024, 1.        ,\n",
       "        0.95354523, 1.        , 0.95354523, 1.        , 0.95354523,\n",
       "        1.        , 0.95110024, 1.        , 0.95110024, 1.        ,\n",
       "        0.95110024, 1.        , 0.95110024, 1.        , 0.94865526,\n",
       "        1.        , 0.95110024, 1.        , 0.94865526, 1.        ]),\n",
       " 'split3_train_score': array([1.        , 1.        , 0.96577017, 1.        , 0.97555012,\n",
       "        1.        , 0.97310513, 1.        , 0.97799511, 1.        ,\n",
       "        0.96577017, 1.        , 0.96577017, 1.        , 0.96332518,\n",
       "        1.        , 0.97066015, 1.        , 0.96577017, 1.        ,\n",
       "        0.97310513, 1.        , 0.96332518, 1.        , 0.96577017,\n",
       "        1.        , 0.95843521, 1.        , 0.95843521, 1.        ,\n",
       "        0.95599022, 1.        , 0.95843521, 1.        , 0.95110024,\n",
       "        1.        , 0.95354523, 1.        , 0.94865526, 1.        ,\n",
       "        0.95110024, 1.        , 0.94865526, 1.        , 0.95110024,\n",
       "        1.        , 0.95110024, 1.        , 0.95110024, 1.        ,\n",
       "        0.94865526, 1.        , 0.95354523, 1.        , 0.94865526,\n",
       "        1.        , 0.95110024, 1.        , 0.94376528, 1.        ]),\n",
       " 'split4_train_score': array([1.        , 1.        , 0.96821516, 1.        , 0.97310513,\n",
       "        1.        , 0.97066015, 1.        , 0.97310513, 1.        ,\n",
       "        0.96332518, 1.        , 0.96577017, 1.        , 0.96577017,\n",
       "        1.        , 0.97555012, 1.        , 0.96577017, 1.        ,\n",
       "        0.96577017, 1.        , 0.96821516, 1.        , 0.96577017,\n",
       "        1.        , 0.9608802 , 1.        , 0.96332518, 1.        ,\n",
       "        0.95843521, 1.        , 0.96332518, 1.        , 0.94865526,\n",
       "        1.        , 0.95843521, 1.        , 0.94865526, 1.        ,\n",
       "        0.95354523, 1.        , 0.94865526, 1.        , 0.95354523,\n",
       "        1.        , 0.94621027, 1.        , 0.95110024, 1.        ,\n",
       "        0.94621027, 1.        , 0.95110024, 1.        , 0.94621027,\n",
       "        1.        , 0.95110024, 1.        , 0.94621027, 1.        ]),\n",
       " 'split5_train_score': array([1.        , 1.        , 0.97555012, 1.        , 0.98288509,\n",
       "        1.        , 0.97799511, 1.        , 0.9804401 , 1.        ,\n",
       "        0.97066015, 1.        , 0.97066015, 1.        , 0.97310513,\n",
       "        1.        , 0.97310513, 1.        , 0.97066015, 1.        ,\n",
       "        0.97555012, 1.        , 0.96577017, 1.        , 0.9608802 ,\n",
       "        1.        , 0.9608802 , 1.        , 0.96577017, 1.        ,\n",
       "        0.9608802 , 1.        , 0.96332518, 1.        , 0.9608802 ,\n",
       "        1.        , 0.96332518, 1.        , 0.95843521, 1.        ,\n",
       "        0.9608802 , 1.        , 0.9608802 , 1.        , 0.95843521,\n",
       "        1.        , 0.95843521, 1.        , 0.95599022, 1.        ,\n",
       "        0.95599022, 1.        , 0.9608802 , 1.        , 0.95599022,\n",
       "        1.        , 0.95843521, 1.        , 0.95354523, 1.        ]),\n",
       " 'split6_train_score': array([1.        , 1.        , 0.97555012, 1.        , 0.98288509,\n",
       "        1.        , 0.97310513, 1.        , 0.97799511, 1.        ,\n",
       "        0.96821516, 1.        , 0.97310513, 1.        , 0.97066015,\n",
       "        1.        , 0.97799511, 1.        , 0.96577017, 1.        ,\n",
       "        0.96821516, 1.        , 0.96332518, 1.        , 0.96577017,\n",
       "        1.        , 0.95599022, 1.        , 0.9608802 , 1.        ,\n",
       "        0.95599022, 1.        , 0.95843521, 1.        , 0.95599022,\n",
       "        1.        , 0.95843521, 1.        , 0.95599022, 1.        ,\n",
       "        0.95599022, 1.        , 0.95599022, 1.        , 0.95354523,\n",
       "        1.        , 0.95110024, 1.        , 0.95599022, 1.        ,\n",
       "        0.95599022, 1.        , 0.9608802 , 1.        , 0.95110024,\n",
       "        1.        , 0.95599022, 1.        , 0.95110024, 1.        ]),\n",
       " 'split7_train_score': array([1.        , 1.        , 0.97073171, 1.        , 0.98292683,\n",
       "        1.        , 0.97073171, 1.        , 0.97073171, 1.        ,\n",
       "        0.96341463, 1.        , 0.96341463, 1.        , 0.96585366,\n",
       "        1.        , 0.97073171, 1.        , 0.97073171, 1.        ,\n",
       "        0.97073171, 1.        , 0.97073171, 1.        , 0.96829268,\n",
       "        1.        , 0.96585366, 1.        , 0.96829268, 1.        ,\n",
       "        0.96097561, 1.        , 0.96097561, 1.        , 0.95609756,\n",
       "        1.        , 0.95853659, 1.        , 0.95609756, 1.        ,\n",
       "        0.95609756, 1.        , 0.95609756, 1.        , 0.95853659,\n",
       "        1.        , 0.95609756, 1.        , 0.95609756, 1.        ,\n",
       "        0.95853659, 1.        , 0.95853659, 1.        , 0.95609756,\n",
       "        1.        , 0.95609756, 1.        , 0.95365854, 1.        ]),\n",
       " 'split8_train_score': array([1.        , 1.        , 0.96836983, 1.        , 0.97810219,\n",
       "        1.        , 0.96836983, 1.        , 0.97323601, 1.        ,\n",
       "        0.96836983, 1.        , 0.96593674, 1.        , 0.96107056,\n",
       "        1.        , 0.96593674, 1.        , 0.96350365, 1.        ,\n",
       "        0.96593674, 1.        , 0.95863747, 1.        , 0.96107056,\n",
       "        1.        , 0.95620438, 1.        , 0.95620438, 1.        ,\n",
       "        0.95620438, 1.        , 0.95620438, 1.        , 0.9513382 ,\n",
       "        1.        , 0.95620438, 1.        , 0.9513382 , 1.        ,\n",
       "        0.9513382 , 1.        , 0.9513382 , 1.        , 0.94890511,\n",
       "        1.        , 0.9513382 , 1.        , 0.9513382 , 1.        ,\n",
       "        0.94890511, 1.        , 0.94890511, 1.        , 0.94647202,\n",
       "        1.        , 0.94647202, 1.        , 0.94647202, 1.        ]),\n",
       " 'split9_train_score': array([1.        , 1.        , 0.9756691 , 1.        , 0.98053528,\n",
       "        1.        , 0.9756691 , 1.        , 0.97810219, 1.        ,\n",
       "        0.96836983, 1.        , 0.97323601, 1.        , 0.97323601,\n",
       "        1.        , 0.9756691 , 1.        , 0.97080292, 1.        ,\n",
       "        0.9756691 , 1.        , 0.96593674, 1.        , 0.96836983,\n",
       "        1.        , 0.96350365, 1.        , 0.96350365, 1.        ,\n",
       "        0.95620438, 1.        , 0.96350365, 1.        , 0.95377129,\n",
       "        1.        , 0.95863747, 1.        , 0.95377129, 1.        ,\n",
       "        0.95377129, 1.        , 0.9513382 , 1.        , 0.9513382 ,\n",
       "        1.        , 0.94890511, 1.        , 0.95377129, 1.        ,\n",
       "        0.9513382 , 1.        , 0.9513382 , 1.        , 0.9513382 ,\n",
       "        1.        , 0.9513382 , 1.        , 0.94890511, 1.        ]),\n",
       " 'mean_train_score': array([1.        , 1.        , 0.97020567, 1.        , 0.97875301,\n",
       "        1.        , 0.97118367, 1.        , 0.97484758, 1.        ,\n",
       "        0.96581005, 1.        , 0.96703135, 1.        , 0.96654414,\n",
       "        1.        , 0.97191835, 1.        , 0.96678745, 1.        ,\n",
       "        0.96996236, 1.        , 0.96434722, 1.        , 0.96483443,\n",
       "        1.        , 0.96068331, 1.        , 0.9621497 , 1.        ,\n",
       "        0.95677609, 1.        , 0.95897301, 1.        , 0.95311337,\n",
       "        1.        , 0.956531  , 1.        , 0.95286887, 1.        ,\n",
       "        0.95433586, 1.        , 0.95287006, 1.        , 0.95409315,\n",
       "        1.        , 0.95238225, 1.        , 0.95409137, 1.        ,\n",
       "        0.95213716, 1.        , 0.95458215, 1.        , 0.95116095,\n",
       "        1.        , 0.95287244, 1.        , 0.94920675, 1.        ]),\n",
       " 'std_train_score': array([0.        , 0.        , 0.00376638, 0.        , 0.00364205,\n",
       "        0.        , 0.00359479, 0.        , 0.00363008, 0.        ,\n",
       "        0.00291216, 0.        , 0.00398736, 0.        , 0.00437494,\n",
       "        0.        , 0.00380993, 0.        , 0.00313904, 0.        ,\n",
       "        0.00346771, 0.        , 0.00364672, 0.        , 0.00293652,\n",
       "        0.        , 0.00298264, 0.        , 0.00330787, 0.        ,\n",
       "        0.00290736, 0.        , 0.00376604, 0.        , 0.00342308,\n",
       "        0.        , 0.00343827, 0.        , 0.00310695, 0.        ,\n",
       "        0.00287922, 0.        , 0.00378435, 0.        , 0.00319554,\n",
       "        0.        , 0.00347874, 0.        , 0.00261215, 0.        ,\n",
       "        0.00396265, 0.        , 0.00407555, 0.        , 0.00343728,\n",
       "        0.        , 0.00323594, 0.        , 0.00341306, 0.        ])}"
      ]
     },
     "execution_count": 441,
     "metadata": {},
     "output_type": "execute_result"
    }
   ],
   "source": [
    "# view the complete results (list of named tuples)\n",
    "grid.cv_results_"
   ]
  },
  {
   "cell_type": "code",
   "execution_count": 442,
   "metadata": {},
   "outputs": [
    {
     "name": "stdout",
     "output_type": "stream",
     "text": [
      "0.9626373626373627\n",
      "{'n_neighbors': 3, 'weights': 'uniform'}\n",
      "KNeighborsClassifier(algorithm='auto', leaf_size=30, metric='minkowski',\n",
      "           metric_params=None, n_jobs=None, n_neighbors=3, p=2,\n",
      "           weights='uniform')\n"
     ]
    }
   ],
   "source": [
    "# examine the best model\n",
    "print(grid.best_score_)\n",
    "print(grid.best_params_)\n",
    "print (grid.best_estimator_)\n",
    "# Best score did not improve for this model"
   ]
  },
  {
   "cell_type": "code",
   "execution_count": 443,
   "metadata": {},
   "outputs": [
    {
     "data": {
      "text/plain": [
       "array(['B', 'B', 'M', 'M', 'B', 'B', 'B', 'B', 'B', 'B', 'M', 'B', 'B',\n",
       "       'B', 'B', 'B', 'B', 'B', 'B', 'B', 'B', 'B', 'M', 'B', 'B', 'M',\n",
       "       'B', 'B', 'B', 'B', 'B', 'B', 'B', 'B', 'B', 'M', 'B', 'M', 'M',\n",
       "       'M', 'B', 'B', 'M', 'B', 'B', 'B', 'B', 'M', 'B', 'M', 'M', 'B',\n",
       "       'B', 'B', 'B', 'B', 'M', 'B', 'B', 'M', 'B', 'B', 'B', 'B', 'B',\n",
       "       'B', 'B', 'B', 'M', 'M', 'B', 'B', 'B', 'M', 'B', 'M', 'M', 'B',\n",
       "       'B', 'B', 'B', 'M', 'M', 'B', 'B', 'B', 'B', 'B', 'M', 'B', 'B',\n",
       "       'M', 'B', 'M', 'M', 'B', 'M', 'B', 'B', 'B', 'B', 'M', 'M', 'B',\n",
       "       'B', 'B', 'B', 'B', 'B', 'M', 'B', 'M', 'M', 'B'], dtype=object)"
      ]
     },
     "execution_count": 443,
     "metadata": {},
     "output_type": "execute_result"
    }
   ],
   "source": [
    "# train your model using all data and the best known parameters\n",
    "\n",
    "# instantiate model with best parameters\n",
    "knn = KNeighborsClassifier(n_neighbors=3, weights='uniform')\n",
    "\n",
    "# fit with X and y, not X_train and y_train\n",
    "# even if we use train/test split, we should train on X and y before making predictions on new data\n",
    "# otherwise we throw away potential valuable data we can learn from\n",
    "knn.fit(X_train, y_train)\n",
    "\n",
    "# make a prediction on out-of-sample data\n",
    "knn.predict(X_test)"
   ]
  },
  {
   "cell_type": "code",
   "execution_count": 444,
   "metadata": {},
   "outputs": [
    {
     "data": {
      "text/plain": [
       "array(['B', 'B', 'M', 'M', 'B', 'B', 'B', 'B', 'B', 'B', 'M', 'B', 'B',\n",
       "       'B', 'B', 'B', 'B', 'B', 'B', 'B', 'B', 'B', 'M', 'B', 'B', 'M',\n",
       "       'B', 'B', 'B', 'B', 'B', 'B', 'B', 'B', 'B', 'M', 'B', 'M', 'M',\n",
       "       'M', 'B', 'B', 'M', 'B', 'B', 'B', 'B', 'M', 'B', 'M', 'M', 'B',\n",
       "       'B', 'B', 'B', 'B', 'M', 'B', 'B', 'M', 'B', 'B', 'B', 'B', 'B',\n",
       "       'B', 'B', 'B', 'M', 'M', 'B', 'B', 'B', 'M', 'B', 'M', 'M', 'B',\n",
       "       'B', 'B', 'B', 'M', 'M', 'B', 'B', 'B', 'B', 'B', 'M', 'B', 'B',\n",
       "       'M', 'B', 'M', 'M', 'B', 'M', 'B', 'B', 'B', 'B', 'M', 'M', 'B',\n",
       "       'B', 'B', 'B', 'B', 'B', 'M', 'B', 'M', 'M', 'B'], dtype=object)"
      ]
     },
     "execution_count": 444,
     "metadata": {},
     "output_type": "execute_result"
    }
   ],
   "source": [
    " \n",
    "# GridSearchCV automatically refits the best model using all of the data\n",
    "# that best fitted model is stored in grid object \n",
    "# we can then use prediction using the best fitted model\n",
    "# code in this cell is the same as the top\n",
    "\n",
    "grid.predict(X_test)"
   ]
  },
  {
   "cell_type": "code",
   "execution_count": 445,
   "metadata": {},
   "outputs": [
    {
     "name": "stdout",
     "output_type": "stream",
     "text": [
      "0.9824561403508771\n"
     ]
    }
   ],
   "source": [
    "knn = KNeighborsClassifier(n_neighbors=3, metric='euclidean', n_jobs=-1).fit(X_train,y_train)\n",
    "#knn.fit(X_train,y_train)\n",
    "\n",
    "# testing the model\n",
    "y_pred = knn.predict(X_test)\n",
    "\n",
    "# checking the accuaracy of the model\n",
    "scores = metrics.accuracy_score(y_test,y_pred)\n",
    "print(scores)"
   ]
  },
  {
   "cell_type": "code",
   "execution_count": 446,
   "metadata": {},
   "outputs": [
    {
     "name": "stdout",
     "output_type": "stream",
     "text": [
      "[[80  0]\n",
      " [ 2 32]]\n",
      "              precision    recall  f1-score   support\n",
      "\n",
      "           B       0.98      1.00      0.99        80\n",
      "           M       1.00      0.94      0.97        34\n",
      "\n",
      "   micro avg       0.98      0.98      0.98       114\n",
      "   macro avg       0.99      0.97      0.98       114\n",
      "weighted avg       0.98      0.98      0.98       114\n",
      "\n"
     ]
    }
   ],
   "source": [
    "# confusion matrix values for the model\n",
    "from sklearn.metrics import classification_report, confusion_matrix  \n",
    "print(confusion_matrix(y_test, y_pred))  \n",
    "print(classification_report(y_test, y_pred))  "
   ]
  },
  {
   "cell_type": "markdown",
   "metadata": {},
   "source": [
    "After Cross validation with the best value of k estimated as 3. for the model gave the optimum k value and accuracy is 98%.\n",
    "Precision is 98% and recall is less 94% compared to precision. malignant is positive class here. because the precision is high means the model predicting malignant more than benign. so the model is evaluating well with K nearest neighbour with k value is 3."
   ]
  },
  {
   "cell_type": "markdown",
   "metadata": {},
   "source": [
    "### Wine Quality classification \n",
    "Data extracted from Scikit learn.it contains  14 columns and 178 rows. The data is clean so no need of data cleaning.\n",
    "target varible contains three levels or classes with 0, 1 and 2.so it is a multi class classification.\n",
    "first splitted the data into training and testing with 70% and 30% respectively.\n",
    "fitted the Knn model.\n",
    "tested it with testing data.\n",
    "did for loop for different k values and plotted accuracy and mean error plots.\n",
    "did cross validation with GridsearchCv cross validation,with hyper parameter tuning for weight options(uniform, distance) with different k values from range 1 to 20 for best k value.\n",
    "Fitted the model again with best k value and tested the accuracy precision, recall and fi score\n",
    "\n",
    "###  Data Extraction"
   ]
  },
  {
   "cell_type": "code",
   "execution_count": 456,
   "metadata": {},
   "outputs": [],
   "source": [
    "from sklearn.datasets import load_wine\n",
    "data = load_wine()"
   ]
  },
  {
   "cell_type": "code",
   "execution_count": 457,
   "metadata": {},
   "outputs": [
    {
     "data": {
      "text/plain": [
       "['alcohol',\n",
       " 'malic_acid',\n",
       " 'ash',\n",
       " 'alcalinity_of_ash',\n",
       " 'magnesium',\n",
       " 'total_phenols',\n",
       " 'flavanoids',\n",
       " 'nonflavanoid_phenols',\n",
       " 'proanthocyanins',\n",
       " 'color_intensity',\n",
       " 'hue',\n",
       " 'od280/od315_of_diluted_wines',\n",
       " 'proline']"
      ]
     },
     "execution_count": 457,
     "metadata": {},
     "output_type": "execute_result"
    }
   ],
   "source": [
    "# As it is a classifiction dataset it divided with feature names and target variable.\n",
    "data.feature_names"
   ]
  },
  {
   "cell_type": "code",
   "execution_count": 454,
   "metadata": {},
   "outputs": [
    {
     "data": {
      "text/plain": [
       "array([0, 0, 0, 0, 0, 0, 0, 0, 0, 0, 0, 0, 0, 0, 0, 0, 0, 0, 0, 0, 0, 0,\n",
       "       0, 0, 0, 0, 0, 0, 0, 0, 0, 0, 0, 0, 0, 0, 0, 0, 0, 0, 0, 0, 0, 0,\n",
       "       0, 0, 0, 0, 0, 0, 0, 0, 0, 0, 0, 0, 0, 0, 0, 1, 1, 1, 1, 1, 1, 1,\n",
       "       1, 1, 1, 1, 1, 1, 1, 1, 1, 1, 1, 1, 1, 1, 1, 1, 1, 1, 1, 1, 1, 1,\n",
       "       1, 1, 1, 1, 1, 1, 1, 1, 1, 1, 1, 1, 1, 1, 1, 1, 1, 1, 1, 1, 1, 1,\n",
       "       1, 1, 1, 1, 1, 1, 1, 1, 1, 1, 1, 1, 1, 1, 1, 1, 1, 1, 1, 1, 2, 2,\n",
       "       2, 2, 2, 2, 2, 2, 2, 2, 2, 2, 2, 2, 2, 2, 2, 2, 2, 2, 2, 2, 2, 2,\n",
       "       2, 2, 2, 2, 2, 2, 2, 2, 2, 2, 2, 2, 2, 2, 2, 2, 2, 2, 2, 2, 2, 2,\n",
       "       2, 2])"
      ]
     },
     "execution_count": 454,
     "metadata": {},
     "output_type": "execute_result"
    }
   ],
   "source": [
    "data.target"
   ]
  },
  {
   "cell_type": "code",
   "execution_count": 459,
   "metadata": {},
   "outputs": [],
   "source": [
    "# before applying model, standrdized the feature columns\n",
    "from sklearn.preprocessing import StandardScaler\n",
    "sc = StandardScaler()\n",
    "X_train = sc.fit_transform(X_train)\n",
    "X_test = sc.transform(X_test)"
   ]
  },
  {
   "cell_type": "code",
   "execution_count": 458,
   "metadata": {},
   "outputs": [],
   "source": [
    "# splitted the data as training and testing\n",
    "X_train,X_test,y_train,y_test = train_test_split(data.data,data.target,test_size=0.3,random_state=4)"
   ]
  },
  {
   "cell_type": "code",
   "execution_count": 460,
   "metadata": {},
   "outputs": [
    {
     "name": "stdout",
     "output_type": "stream",
     "text": [
      "(124, 13)\n",
      "(54, 13)\n"
     ]
    }
   ],
   "source": [
    "print(X_train.shape)\n",
    "print(X_test.shape)"
   ]
  },
  {
   "cell_type": "code",
   "execution_count": 461,
   "metadata": {},
   "outputs": [
    {
     "name": "stdout",
     "output_type": "stream",
     "text": [
      "(124,)\n",
      "(54,)\n"
     ]
    }
   ],
   "source": [
    "print(y_train.shape)\n",
    "print(y_test.shape)"
   ]
  },
  {
   "cell_type": "code",
   "execution_count": 462,
   "metadata": {},
   "outputs": [],
   "source": [
    "# Imported the model from sk learn\n",
    "from sklearn import metrics\n",
    "from sklearn.neighbors import KNeighborsClassifier\n",
    "\n",
    "# training the model\n",
    "knn = KNeighborsClassifier(n_neighbors=15, metric='euclidean', n_jobs=-1).fit(X_train,y_train)\n",
    "#knn.fit(X_train,y_train)\n",
    "\n",
    "# Testing the model\n",
    "y_pred = knn.predict(X_test)\n",
    "scores = metrics.accuracy_score(y_test,y_pred)"
   ]
  },
  {
   "cell_type": "code",
   "execution_count": 463,
   "metadata": {},
   "outputs": [
    {
     "data": {
      "text/plain": [
       "0.9814814814814815"
      ]
     },
     "execution_count": 463,
     "metadata": {},
     "output_type": "execute_result"
    }
   ],
   "source": [
    "# Accuracy of the model\n",
    "scores"
   ]
  },
  {
   "cell_type": "code",
   "execution_count": 464,
   "metadata": {},
   "outputs": [
    {
     "name": "stdout",
     "output_type": "stream",
     "text": [
      "[[18  0  0]\n",
      " [ 1 18  0]\n",
      " [ 0  0 17]]\n",
      "              precision    recall  f1-score   support\n",
      "\n",
      "           0       0.95      1.00      0.97        18\n",
      "           1       1.00      0.95      0.97        19\n",
      "           2       1.00      1.00      1.00        17\n",
      "\n",
      "   micro avg       0.98      0.98      0.98        54\n",
      "   macro avg       0.98      0.98      0.98        54\n",
      "weighted avg       0.98      0.98      0.98        54\n",
      "\n"
     ]
    }
   ],
   "source": [
    "# Evaluating the model with Confusion matrix\n",
    "\n",
    "print(confusion_matrix(y_test, y_pred))  \n",
    "print(classification_report(y_test, y_pred))"
   ]
  },
  {
   "cell_type": "code",
   "execution_count": 465,
   "metadata": {},
   "outputs": [],
   "source": [
    "import numpy as np\n",
    "Accuracy = []\n",
    "\n",
    "# Calculating Accuracy for K values between 1 and 40\n",
    "for i in range(1, 40):  \n",
    "    knn = KNeighborsClassifier(n_neighbors=i)\n",
    "    knn.fit(X_train, y_train)\n",
    "    y_pred = knn.predict(X_test)\n",
    "    Accuracy.append(metrics.accuracy_score(y_test,y_pred))"
   ]
  },
  {
   "cell_type": "code",
   "execution_count": 466,
   "metadata": {},
   "outputs": [
    {
     "data": {
      "text/plain": [
       "Text(0, 0.5, 'Accuracy')"
      ]
     },
     "execution_count": 466,
     "metadata": {},
     "output_type": "execute_result"
    },
    {
     "data": {
      "image/png": "[encoded data removed]",
      "text/plain": [
       "<Figure size 864x432 with 1 Axes>"
      ]
     },
     "metadata": {},
     "output_type": "display_data"
    }
   ],
   "source": [
    "plt.figure(figsize=(12, 6))  \n",
    "plt.plot(range(1, 40), Accuracy, color='red', linestyle='dashed', marker='o',  \n",
    "         markerfacecolor='blue', markersize=10)\n",
    "plt.title('accuracy with different K Value')  \n",
    "plt.xlabel('K Value')  \n",
    "plt.ylabel('Accuracy')"
   ]
  },
  {
   "cell_type": "code",
   "execution_count": 467,
   "metadata": {},
   "outputs": [
    {
     "data": {
      "text/plain": [
       "Text(0, 0.5, 'Mean Error')"
      ]
     },
     "execution_count": 467,
     "metadata": {},
     "output_type": "execute_result"
    },
    {
     "data": {
      "image/png": "[encoded data removed]",
      "text/plain": [
       "<Figure size 864x432 with 1 Axes>"
      ]
     },
     "metadata": {},
     "output_type": "display_data"
    }
   ],
   "source": [
    "plt.figure(figsize=(12, 6))  \n",
    "plt.plot(range(1, 40), error, color='red', linestyle='dashed', marker='o',  \n",
    "         markerfacecolor='blue', markersize=10)\n",
    "plt.title('Error Rate K Value')  \n",
    "plt.xlabel('K Value')  \n",
    "plt.ylabel('Mean Error')  "
   ]
  },
  {
   "cell_type": "markdown",
   "metadata": {},
   "source": [
    "### cross validation"
   ]
  },
  {
   "cell_type": "code",
   "execution_count": 468,
   "metadata": {},
   "outputs": [],
   "source": [
    "# Cross validation with hyper parametertuning with weight options uniform and distance\n",
    "# define the parameter values that should be searched\n",
    "k_range = list(range(1, 21))\n",
    "\n",
    "# Another parameter besides k that we might vary is the weights parameters\n",
    "# default options -->uniform (all points in the neighborhood are weighted equally)\n",
    "# another option -->distance (weights closer neighbors more heavily than further neighbors)\n",
    "\n",
    "# we create a list\n",
    "weight_options = ['uniform', 'distance']"
   ]
  },
  {
   "cell_type": "code",
   "execution_count": 469,
   "metadata": {},
   "outputs": [
    {
     "name": "stdout",
     "output_type": "stream",
     "text": [
      "{'n_neighbors': [1, 2, 3, 4, 5, 6, 7, 8, 9, 10, 11, 12, 13, 14, 15, 16, 17, 18, 19, 20], 'weights': ['uniform', 'distance']}\n"
     ]
    }
   ],
   "source": [
    "# created a parameter grid: map the parameter names to the values that should be searched\n",
    "# dictionary = dict(key=values, key=values)\n",
    "param_grid = dict(n_neighbors=k_range, weights=weight_options)\n",
    "print(param_grid)"
   ]
  },
  {
   "cell_type": "code",
   "execution_count": 470,
   "metadata": {},
   "outputs": [
    {
     "data": {
      "text/plain": [
       "GridSearchCV(cv=10, error_score='raise-deprecating',\n",
       "       estimator=KNeighborsClassifier(algorithm='auto', leaf_size=30, metric='minkowski',\n",
       "           metric_params=None, n_jobs=None, n_neighbors=5, p=2,\n",
       "           weights='uniform'),\n",
       "       fit_params=None, iid='warn', n_jobs=None,\n",
       "       param_grid={'n_neighbors': [1, 2, 3, 4, 5, 6, 7, 8, 9, 10, 11, 12, 13, 14, 15, 16, 17, 18, 19, 20], 'weights': ['uniform', 'distance']},\n",
       "       pre_dispatch='2*n_jobs', refit=True, return_train_score='warn',\n",
       "       scoring='accuracy', verbose=0)"
      ]
     },
     "execution_count": 470,
     "metadata": {},
     "output_type": "execute_result"
    }
   ],
   "source": [
    "# instantiated and fit the grid\n",
    "# 10-fold cross-validation is being performed 30 x 2 = 60 times\n",
    "knn_grid = KNeighborsClassifier()\n",
    "grid = GridSearchCV(knn_grid, param_grid, cv=10, scoring='accuracy')\n",
    "grid.fit(X_train, y_train)"
   ]
  },
  {
   "cell_type": "code",
   "execution_count": 329,
   "metadata": {},
   "outputs": [
    {
     "data": {
      "text/plain": [
       "{'mean_fit_time': array([1.14753246e-03, 1.75287724e-03, 5.61594963e-04, 1.13670826e-03,\n",
       "        1.42407417e-04, 2.23524570e-03, 1.54964924e-03, 4.99033928e-04,\n",
       "        1.42385960e-03, 5.87201118e-04, 4.39286232e-04, 2.63929367e-05,\n",
       "        3.53860855e-04, 9.33527946e-04, 1.59742832e-03, 5.55992126e-04,\n",
       "        8.52584839e-04, 2.74991989e-04, 8.87084007e-04, 1.05178356e-03,\n",
       "        1.35712624e-03, 9.57250595e-04, 1.07636452e-03, 6.24704361e-04,\n",
       "        6.03222847e-04, 4.98938560e-04, 1.22649670e-03, 6.77394867e-04,\n",
       "        3.71456146e-04, 8.90231133e-04, 5.59234619e-04, 1.24967098e-03,\n",
       "        9.31859016e-04, 1.36795044e-03, 9.39273834e-04, 5.07116318e-04,\n",
       "        6.62374496e-04, 3.85117531e-04, 8.23497772e-04, 6.14857674e-04]),\n",
       " 'std_fit_time': array([1.77394832e-03, 1.94758521e-03, 5.72091332e-04, 1.49782209e-03,\n",
       "        3.11994666e-04, 1.64350724e-03, 1.76103631e-03, 1.20232014e-03,\n",
       "        1.99243796e-03, 7.13818086e-04, 1.17847990e-03, 7.91788101e-05,\n",
       "        4.68112289e-04, 1.15449749e-03, 2.04970448e-03, 6.76695864e-04,\n",
       "        8.43956766e-04, 4.24692562e-04, 1.59324972e-03, 1.42514810e-03,\n",
       "        1.76705788e-03, 1.24342802e-03, 1.13036578e-03, 6.83882205e-04,\n",
       "        4.92674586e-04, 4.98939217e-04, 1.34250197e-03, 6.47900423e-04,\n",
       "        4.66481764e-04, 1.10454302e-03, 4.67603865e-04, 1.80950434e-03,\n",
       "        1.20152117e-03, 1.53174289e-03, 1.17004286e-03, 5.07331062e-04,\n",
       "        5.53509821e-04, 4.77188971e-04, 6.45133626e-04, 6.78271195e-04]),\n",
       " 'mean_score_time': array([0.00234711, 0.00119281, 0.00118284, 0.0008996 , 0.00099928,\n",
       "        0.00067801, 0.00168152, 0.00192859, 0.00141416, 0.00252006,\n",
       "        0.00211775, 0.00268805, 0.00167906, 0.00140002, 0.00136011,\n",
       "        0.00115504, 0.00178735, 0.00116765, 0.00192764, 0.00172539,\n",
       "        0.00170207, 0.00146608, 0.00121479, 0.00099761, 0.00103805,\n",
       "        0.00168755, 0.00137117, 0.00189619, 0.00113471, 0.00213945,\n",
       "        0.00102024, 0.00151091, 0.00092151, 0.0008826 , 0.00117433,\n",
       "        0.00125997, 0.00169632, 0.00135832, 0.00090365, 0.00180404]),\n",
       " 'std_score_time': array([0.00205574, 0.00172573, 0.00143562, 0.00157589, 0.00154908,\n",
       "        0.00044855, 0.00169231, 0.00222022, 0.00188925, 0.001585  ,\n",
       "        0.00241348, 0.00176203, 0.00181921, 0.00165259, 0.00161002,\n",
       "        0.00117827, 0.00162369, 0.00070376, 0.00128146, 0.00168297,\n",
       "        0.00147178, 0.00070943, 0.00175254, 0.00096755, 0.00117819,\n",
       "        0.00177126, 0.00090654, 0.00142327, 0.00129593, 0.00169704,\n",
       "        0.00121131, 0.00144862, 0.00124393, 0.00067888, 0.0012073 ,\n",
       "        0.00167255, 0.00151886, 0.00149778, 0.00072526, 0.00188382]),\n",
       " 'param_n_neighbors': masked_array(data=[1, 1, 2, 2, 3, 3, 4, 4, 5, 5, 6, 6, 7, 7, 8, 8, 9, 9,\n",
       "                    10, 10, 11, 11, 12, 12, 13, 13, 14, 14, 15, 15, 16, 16,\n",
       "                    17, 17, 18, 18, 19, 19, 20, 20],\n",
       "              mask=[False, False, False, False, False, False, False, False,\n",
       "                    False, False, False, False, False, False, False, False,\n",
       "                    False, False, False, False, False, False, False, False,\n",
       "                    False, False, False, False, False, False, False, False,\n",
       "                    False, False, False, False, False, False, False, False],\n",
       "        fill_value='?',\n",
       "             dtype=object),\n",
       " 'param_weights': masked_array(data=['uniform', 'distance', 'uniform', 'distance',\n",
       "                    'uniform', 'distance', 'uniform', 'distance',\n",
       "                    'uniform', 'distance', 'uniform', 'distance',\n",
       "                    'uniform', 'distance', 'uniform', 'distance',\n",
       "                    'uniform', 'distance', 'uniform', 'distance',\n",
       "                    'uniform', 'distance', 'uniform', 'distance',\n",
       "                    'uniform', 'distance', 'uniform', 'distance',\n",
       "                    'uniform', 'distance', 'uniform', 'distance',\n",
       "                    'uniform', 'distance', 'uniform', 'distance',\n",
       "                    'uniform', 'distance', 'uniform', 'distance'],\n",
       "              mask=[False, False, False, False, False, False, False, False,\n",
       "                    False, False, False, False, False, False, False, False,\n",
       "                    False, False, False, False, False, False, False, False,\n",
       "                    False, False, False, False, False, False, False, False,\n",
       "                    False, False, False, False, False, False, False, False],\n",
       "        fill_value='?',\n",
       "             dtype=object),\n",
       " 'params': [{'n_neighbors': 1, 'weights': 'uniform'},\n",
       "  {'n_neighbors': 1, 'weights': 'distance'},\n",
       "  {'n_neighbors': 2, 'weights': 'uniform'},\n",
       "  {'n_neighbors': 2, 'weights': 'distance'},\n",
       "  {'n_neighbors': 3, 'weights': 'uniform'},\n",
       "  {'n_neighbors': 3, 'weights': 'distance'},\n",
       "  {'n_neighbors': 4, 'weights': 'uniform'},\n",
       "  {'n_neighbors': 4, 'weights': 'distance'},\n",
       "  {'n_neighbors': 5, 'weights': 'uniform'},\n",
       "  {'n_neighbors': 5, 'weights': 'distance'},\n",
       "  {'n_neighbors': 6, 'weights': 'uniform'},\n",
       "  {'n_neighbors': 6, 'weights': 'distance'},\n",
       "  {'n_neighbors': 7, 'weights': 'uniform'},\n",
       "  {'n_neighbors': 7, 'weights': 'distance'},\n",
       "  {'n_neighbors': 8, 'weights': 'uniform'},\n",
       "  {'n_neighbors': 8, 'weights': 'distance'},\n",
       "  {'n_neighbors': 9, 'weights': 'uniform'},\n",
       "  {'n_neighbors': 9, 'weights': 'distance'},\n",
       "  {'n_neighbors': 10, 'weights': 'uniform'},\n",
       "  {'n_neighbors': 10, 'weights': 'distance'},\n",
       "  {'n_neighbors': 11, 'weights': 'uniform'},\n",
       "  {'n_neighbors': 11, 'weights': 'distance'},\n",
       "  {'n_neighbors': 12, 'weights': 'uniform'},\n",
       "  {'n_neighbors': 12, 'weights': 'distance'},\n",
       "  {'n_neighbors': 13, 'weights': 'uniform'},\n",
       "  {'n_neighbors': 13, 'weights': 'distance'},\n",
       "  {'n_neighbors': 14, 'weights': 'uniform'},\n",
       "  {'n_neighbors': 14, 'weights': 'distance'},\n",
       "  {'n_neighbors': 15, 'weights': 'uniform'},\n",
       "  {'n_neighbors': 15, 'weights': 'distance'},\n",
       "  {'n_neighbors': 16, 'weights': 'uniform'},\n",
       "  {'n_neighbors': 16, 'weights': 'distance'},\n",
       "  {'n_neighbors': 17, 'weights': 'uniform'},\n",
       "  {'n_neighbors': 17, 'weights': 'distance'},\n",
       "  {'n_neighbors': 18, 'weights': 'uniform'},\n",
       "  {'n_neighbors': 18, 'weights': 'distance'},\n",
       "  {'n_neighbors': 19, 'weights': 'uniform'},\n",
       "  {'n_neighbors': 19, 'weights': 'distance'},\n",
       "  {'n_neighbors': 20, 'weights': 'uniform'},\n",
       "  {'n_neighbors': 20, 'weights': 'distance'}],\n",
       " 'split0_test_score': array([0.66666667, 0.66666667, 0.8       , 0.66666667, 0.86666667,\n",
       "        0.86666667, 0.86666667, 0.73333333, 0.8       , 0.8       ,\n",
       "        0.8       , 0.8       , 0.8       , 0.8       , 0.86666667,\n",
       "        0.86666667, 0.8       , 0.8       , 0.73333333, 0.8       ,\n",
       "        0.73333333, 0.8       , 0.66666667, 0.73333333, 0.73333333,\n",
       "        0.8       , 0.66666667, 0.8       , 0.73333333, 0.8       ,\n",
       "        0.66666667, 0.8       , 0.73333333, 0.8       , 0.66666667,\n",
       "        0.8       , 0.66666667, 0.8       , 0.73333333, 0.8       ]),\n",
       " 'split1_test_score': array([0.76923077, 0.76923077, 0.69230769, 0.76923077, 0.61538462,\n",
       "        0.69230769, 0.61538462, 0.69230769, 0.69230769, 0.76923077,\n",
       "        0.69230769, 0.69230769, 0.69230769, 0.69230769, 0.69230769,\n",
       "        0.69230769, 0.69230769, 0.69230769, 0.69230769, 0.69230769,\n",
       "        0.69230769, 0.69230769, 0.69230769, 0.69230769, 0.69230769,\n",
       "        0.69230769, 0.61538462, 0.69230769, 0.69230769, 0.69230769,\n",
       "        0.61538462, 0.69230769, 0.69230769, 0.69230769, 0.61538462,\n",
       "        0.69230769, 0.61538462, 0.69230769, 0.61538462, 0.69230769]),\n",
       " 'split2_test_score': array([0.83333333, 0.83333333, 0.66666667, 0.83333333, 0.75      ,\n",
       "        0.83333333, 0.66666667, 0.83333333, 0.66666667, 0.83333333,\n",
       "        0.66666667, 0.83333333, 0.66666667, 0.83333333, 0.66666667,\n",
       "        0.83333333, 0.75      , 0.83333333, 0.66666667, 0.75      ,\n",
       "        0.83333333, 0.83333333, 0.83333333, 0.75      , 0.83333333,\n",
       "        0.83333333, 0.75      , 0.75      , 0.66666667, 0.83333333,\n",
       "        0.66666667, 0.83333333, 0.75      , 0.83333333, 0.75      ,\n",
       "        0.75      , 0.75      , 0.75      , 0.66666667, 0.75      ]),\n",
       " 'split3_test_score': array([0.58333333, 0.58333333, 0.66666667, 0.58333333, 0.5       ,\n",
       "        0.5       , 0.5       , 0.5       , 0.58333333, 0.58333333,\n",
       "        0.58333333, 0.58333333, 0.58333333, 0.66666667, 0.58333333,\n",
       "        0.66666667, 0.58333333, 0.66666667, 0.58333333, 0.66666667,\n",
       "        0.58333333, 0.66666667, 0.41666667, 0.66666667, 0.5       ,\n",
       "        0.66666667, 0.41666667, 0.66666667, 0.41666667, 0.58333333,\n",
       "        0.41666667, 0.66666667, 0.5       , 0.58333333, 0.5       ,\n",
       "        0.58333333, 0.41666667, 0.58333333, 0.41666667, 0.5       ]),\n",
       " 'split4_test_score': array([0.58333333, 0.58333333, 0.5       , 0.58333333, 0.41666667,\n",
       "        0.5       , 0.5       , 0.5       , 0.41666667, 0.5       ,\n",
       "        0.5       , 0.5       , 0.41666667, 0.5       , 0.5       ,\n",
       "        0.58333333, 0.41666667, 0.41666667, 0.41666667, 0.5       ,\n",
       "        0.41666667, 0.41666667, 0.41666667, 0.41666667, 0.41666667,\n",
       "        0.41666667, 0.5       , 0.5       , 0.41666667, 0.5       ,\n",
       "        0.58333333, 0.58333333, 0.41666667, 0.58333333, 0.41666667,\n",
       "        0.5       , 0.41666667, 0.5       , 0.41666667, 0.5       ]),\n",
       " 'split5_test_score': array([0.66666667, 0.66666667, 0.66666667, 0.66666667, 0.58333333,\n",
       "        0.58333333, 0.75      , 0.58333333, 0.66666667, 0.66666667,\n",
       "        0.58333333, 0.75      , 0.75      , 0.75      , 0.75      ,\n",
       "        0.83333333, 0.83333333, 0.83333333, 0.91666667, 0.83333333,\n",
       "        0.83333333, 0.83333333, 0.91666667, 0.83333333, 0.83333333,\n",
       "        0.83333333, 0.91666667, 0.83333333, 0.91666667, 0.83333333,\n",
       "        0.91666667, 0.83333333, 0.83333333, 0.83333333, 0.83333333,\n",
       "        0.83333333, 0.66666667, 0.83333333, 0.83333333, 0.83333333]),\n",
       " 'split6_test_score': array([1.        , 1.        , 1.        , 1.        , 1.        ,\n",
       "        1.        , 1.        , 1.        , 0.91666667, 1.        ,\n",
       "        0.91666667, 1.        , 0.83333333, 1.        , 0.83333333,\n",
       "        0.91666667, 0.83333333, 0.91666667, 0.83333333, 0.91666667,\n",
       "        0.83333333, 0.91666667, 0.75      , 0.91666667, 0.83333333,\n",
       "        0.91666667, 0.75      , 0.91666667, 0.83333333, 0.91666667,\n",
       "        0.83333333, 0.91666667, 0.83333333, 0.91666667, 0.83333333,\n",
       "        0.91666667, 0.83333333, 0.91666667, 0.83333333, 0.91666667]),\n",
       " 'split7_test_score': array([0.66666667, 0.66666667, 0.58333333, 0.66666667, 0.66666667,\n",
       "        0.58333333, 0.66666667, 0.75      , 0.66666667, 0.75      ,\n",
       "        0.66666667, 0.66666667, 0.66666667, 0.75      , 0.58333333,\n",
       "        0.66666667, 0.58333333, 0.66666667, 0.58333333, 0.66666667,\n",
       "        0.58333333, 0.66666667, 0.5       , 0.66666667, 0.5       ,\n",
       "        0.58333333, 0.5       , 0.66666667, 0.5       , 0.66666667,\n",
       "        0.5       , 0.66666667, 0.5       , 0.66666667, 0.5       ,\n",
       "        0.66666667, 0.5       , 0.58333333, 0.5       , 0.58333333]),\n",
       " 'split8_test_score': array([0.83333333, 0.83333333, 0.75      , 0.83333333, 1.        ,\n",
       "        1.        , 0.91666667, 0.91666667, 0.91666667, 0.91666667,\n",
       "        0.83333333, 0.91666667, 0.75      , 0.83333333, 0.75      ,\n",
       "        0.91666667, 0.83333333, 0.91666667, 0.83333333, 0.91666667,\n",
       "        0.83333333, 0.91666667, 0.83333333, 0.91666667, 0.83333333,\n",
       "        0.91666667, 0.75      , 0.91666667, 0.83333333, 0.91666667,\n",
       "        0.83333333, 0.91666667, 0.83333333, 0.91666667, 0.75      ,\n",
       "        0.91666667, 0.75      , 0.91666667, 0.75      , 0.83333333]),\n",
       " 'split9_test_score': array([0.75      , 0.75      , 0.83333333, 0.75      , 0.66666667,\n",
       "        0.66666667, 0.66666667, 0.66666667, 0.58333333, 0.75      ,\n",
       "        0.58333333, 0.66666667, 0.58333333, 0.75      , 0.58333333,\n",
       "        0.75      , 0.58333333, 0.66666667, 0.58333333, 0.66666667,\n",
       "        0.58333333, 0.66666667, 0.58333333, 0.66666667, 0.58333333,\n",
       "        0.66666667, 0.58333333, 0.66666667, 0.58333333, 0.66666667,\n",
       "        0.58333333, 0.66666667, 0.58333333, 0.66666667, 0.58333333,\n",
       "        0.66666667, 0.58333333, 0.66666667, 0.5       , 0.75      ]),\n",
       " 'mean_test_score': array([0.73387097, 0.73387097, 0.71774194, 0.73387097, 0.70967742,\n",
       "        0.72580645, 0.71774194, 0.71774194, 0.69354839, 0.75806452,\n",
       "        0.68548387, 0.74193548, 0.67741935, 0.75806452, 0.68548387,\n",
       "        0.77419355, 0.69354839, 0.74193548, 0.68548387, 0.74193548,\n",
       "        0.69354839, 0.74193548, 0.66129032, 0.72580645, 0.67741935,\n",
       "        0.73387097, 0.64516129, 0.74193548, 0.66129032, 0.74193548,\n",
       "        0.66129032, 0.75806452, 0.66935484, 0.75      , 0.64516129,\n",
       "        0.73387097, 0.62096774, 0.72580645, 0.62903226, 0.71774194]),\n",
       " 'std_test_score': array([0.12137373, 0.12137373, 0.1307054 , 0.12137373, 0.18668293,\n",
       "        0.17978905, 0.15923316, 0.15558778, 0.14486575, 0.13817872,\n",
       "        0.12371838, 0.1416883 , 0.11631241, 0.12124039, 0.11528274,\n",
       "        0.11028514, 0.13526978, 0.1416883 , 0.14050524, 0.12124039,\n",
       "        0.13675211, 0.1416883 , 0.16611377, 0.13643469, 0.15277567,\n",
       "        0.14797498, 0.14133124, 0.12124039, 0.16570871, 0.1318613 ,\n",
       "        0.14748621, 0.10959498, 0.14639901, 0.11871068, 0.13649334,\n",
       "        0.12853113, 0.13295325, 0.13494887, 0.15138858, 0.13574972]),\n",
       " 'rank_test_score': array([12, 12, 20, 12, 24, 17, 20, 20, 25,  2, 28,  6, 31,  2, 28,  1, 25,\n",
       "         6, 28,  6, 25,  6, 34, 17, 31, 12, 37,  6, 34,  6, 34,  2, 33,  5,\n",
       "        37, 12, 40, 17, 39, 20]),\n",
       " 'split0_train_score': array([1.        , 1.        , 0.8440367 , 1.        , 0.86238532,\n",
       "        1.        , 0.78899083, 1.        , 0.76146789, 1.        ,\n",
       "        0.74311927, 1.        , 0.74311927, 1.        , 0.70642202,\n",
       "        1.        , 0.74311927, 1.        , 0.72477064, 1.        ,\n",
       "        0.67889908, 1.        , 0.69724771, 1.        , 0.66972477,\n",
       "        1.        , 0.69724771, 1.        , 0.70642202, 1.        ,\n",
       "        0.69724771, 1.        , 0.71559633, 1.        , 0.67889908,\n",
       "        1.        , 0.64220183, 1.        , 0.67889908, 1.        ]),\n",
       " 'split1_train_score': array([1.        , 1.        , 0.84684685, 1.        , 0.85585586,\n",
       "        1.        , 0.82882883, 1.        , 0.8018018 , 1.        ,\n",
       "        0.8018018 , 1.        , 0.78378378, 1.        , 0.79279279,\n",
       "        1.        , 0.75675676, 1.        , 0.73873874, 1.        ,\n",
       "        0.72072072, 1.        , 0.72072072, 1.        , 0.71171171,\n",
       "        1.        , 0.69369369, 1.        , 0.71171171, 1.        ,\n",
       "        0.7027027 , 1.        , 0.68468468, 1.        , 0.67567568,\n",
       "        1.        , 0.65765766, 1.        , 0.69369369, 1.        ]),\n",
       " 'split2_train_score': array([1.        , 1.        , 0.83035714, 1.        , 0.85714286,\n",
       "        1.        , 0.79464286, 1.        , 0.77678571, 1.        ,\n",
       "        0.78571429, 1.        , 0.73214286, 1.        , 0.73214286,\n",
       "        1.        , 0.76785714, 1.        , 0.71428571, 1.        ,\n",
       "        0.70535714, 1.        , 0.70535714, 1.        , 0.69642857,\n",
       "        1.        , 0.69642857, 1.        , 0.70535714, 1.        ,\n",
       "        0.70535714, 1.        , 0.6875    , 1.        , 0.67857143,\n",
       "        1.        , 0.6875    , 1.        , 0.67857143, 1.        ]),\n",
       " 'split3_train_score': array([1.        , 1.        , 0.86607143, 1.        , 0.89285714,\n",
       "        1.        , 0.79464286, 1.        , 0.77678571, 1.        ,\n",
       "        0.79464286, 1.        , 0.78571429, 1.        , 0.76785714,\n",
       "        1.        , 0.78571429, 1.        , 0.76785714, 1.        ,\n",
       "        0.71428571, 1.        , 0.73214286, 1.        , 0.71428571,\n",
       "        1.        , 0.70535714, 1.        , 0.72321429, 1.        ,\n",
       "        0.72321429, 1.        , 0.73214286, 1.        , 0.73214286,\n",
       "        1.        , 0.74107143, 1.        , 0.75      , 1.        ]),\n",
       " 'split4_train_score': array([1.        , 1.        , 0.85714286, 1.        , 0.875     ,\n",
       "        1.        , 0.82142857, 1.        , 0.82142857, 1.        ,\n",
       "        0.80357143, 1.        , 0.79464286, 1.        , 0.77678571,\n",
       "        1.        , 0.75      , 1.        , 0.73214286, 1.        ,\n",
       "        0.74107143, 1.        , 0.72321429, 1.        , 0.73214286,\n",
       "        1.        , 0.70535714, 1.        , 0.71428571, 1.        ,\n",
       "        0.71428571, 1.        , 0.73214286, 1.        , 0.72321429,\n",
       "        1.        , 0.73214286, 1.        , 0.69642857, 1.        ]),\n",
       " 'split5_train_score': array([1.        , 1.        , 0.8125    , 1.        , 0.86607143,\n",
       "        1.        , 0.78571429, 1.        , 0.78571429, 1.        ,\n",
       "        0.80357143, 1.        , 0.77678571, 1.        , 0.75      ,\n",
       "        1.        , 0.76785714, 1.        , 0.72321429, 1.        ,\n",
       "        0.6875    , 1.        , 0.70535714, 1.        , 0.66964286,\n",
       "        1.        , 0.65178571, 1.        , 0.67857143, 1.        ,\n",
       "        0.69642857, 1.        , 0.66071429, 1.        , 0.67857143,\n",
       "        1.        , 0.66964286, 1.        , 0.6875    , 1.        ]),\n",
       " 'split6_train_score': array([1.        , 1.        , 0.8125    , 1.        , 0.875     ,\n",
       "        1.        , 0.78571429, 1.        , 0.74107143, 1.        ,\n",
       "        0.73214286, 1.        , 0.72321429, 1.        , 0.73214286,\n",
       "        1.        , 0.75      , 1.        , 0.75      , 1.        ,\n",
       "        0.72321429, 1.        , 0.72321429, 1.        , 0.72321429,\n",
       "        1.        , 0.70535714, 1.        , 0.71428571, 1.        ,\n",
       "        0.71428571, 1.        , 0.72321429, 1.        , 0.72321429,\n",
       "        1.        , 0.70535714, 1.        , 0.71428571, 1.        ]),\n",
       " 'split7_train_score': array([1.        , 1.        , 0.84821429, 1.        , 0.85714286,\n",
       "        1.        , 0.80357143, 1.        , 0.79464286, 1.        ,\n",
       "        0.79464286, 1.        , 0.75      , 1.        , 0.75      ,\n",
       "        1.        , 0.75      , 1.        , 0.75      , 1.        ,\n",
       "        0.73214286, 1.        , 0.70535714, 1.        , 0.72321429,\n",
       "        1.        , 0.71428571, 1.        , 0.72321429, 1.        ,\n",
       "        0.74107143, 1.        , 0.73214286, 1.        , 0.73214286,\n",
       "        1.        , 0.70535714, 1.        , 0.73214286, 1.        ]),\n",
       " 'split8_train_score': array([1.        , 1.        , 0.83928571, 1.        , 0.86607143,\n",
       "        1.        , 0.77678571, 1.        , 0.75      , 1.        ,\n",
       "        0.74107143, 1.        , 0.72321429, 1.        , 0.72321429,\n",
       "        1.        , 0.73214286, 1.        , 0.73214286, 1.        ,\n",
       "        0.70535714, 1.        , 0.72321429, 1.        , 0.69642857,\n",
       "        1.        , 0.71428571, 1.        , 0.71428571, 1.        ,\n",
       "        0.70535714, 1.        , 0.67857143, 1.        , 0.70535714,\n",
       "        1.        , 0.70535714, 1.        , 0.70535714, 1.        ]),\n",
       " 'split9_train_score': array([1.        , 1.        , 0.83035714, 1.        , 0.84821429,\n",
       "        1.        , 0.78571429, 1.        , 0.77678571, 1.        ,\n",
       "        0.76785714, 1.        , 0.73214286, 1.        , 0.74107143,\n",
       "        1.        , 0.76785714, 1.        , 0.76785714, 1.        ,\n",
       "        0.74107143, 1.        , 0.74107143, 1.        , 0.74107143,\n",
       "        1.        , 0.70535714, 1.        , 0.75      , 1.        ,\n",
       "        0.73214286, 1.        , 0.75      , 1.        , 0.75      ,\n",
       "        1.        , 0.73214286, 1.        , 0.6875    , 1.        ]),\n",
       " 'mean_train_score': array([1.        , 1.        , 0.83873121, 1.        , 0.86557412,\n",
       "        1.        , 0.79660339, 1.        , 0.7786484 , 1.        ,\n",
       "        0.77681354, 1.        , 0.75447602, 1.        , 0.74724291,\n",
       "        1.        , 0.75713046, 1.        , 0.74010094, 1.        ,\n",
       "        0.71496198, 1.        , 0.7176897 , 1.        , 0.70778651,\n",
       "        1.        , 0.69891557, 1.        , 0.7141348 , 1.        ,\n",
       "        0.71320933, 1.        , 0.70967096, 1.        , 0.7077789 ,\n",
       "        1.        , 0.69784309, 1.        , 0.70243785, 1.        ]),\n",
       " 'std_train_score': array([0.        , 0.        , 0.01669469, 0.        , 0.01212725,\n",
       "        0.        , 0.01586638, 0.        , 0.02282611, 0.        ,\n",
       "        0.02694414, 0.        , 0.02654621, 0.        , 0.02474985,\n",
       "        0.        , 0.01461364, 0.        , 0.01746974, 0.        ,\n",
       "        0.01999877, 0.        , 0.01315485, 0.        , 0.02323023,\n",
       "        0.        , 0.01701739, 0.        , 0.01690684, 0.        ,\n",
       "        0.01416779, 0.        , 0.02799951, 0.        , 0.02650096,\n",
       "        0.        , 0.03162921, 0.        , 0.02230688, 0.        ])}"
      ]
     },
     "execution_count": 329,
     "metadata": {},
     "output_type": "execute_result"
    }
   ],
   "source": [
    "# view the complete results (list of named tuples)\n",
    "grid.cv_results_"
   ]
  },
  {
   "cell_type": "code",
   "execution_count": 471,
   "metadata": {},
   "outputs": [
    {
     "name": "stdout",
     "output_type": "stream",
     "text": [
      "0.967741935483871\n",
      "{'n_neighbors': 17, 'weights': 'distance'}\n",
      "KNeighborsClassifier(algorithm='auto', leaf_size=30, metric='minkowski',\n",
      "           metric_params=None, n_jobs=None, n_neighbors=17, p=2,\n",
      "           weights='distance')\n"
     ]
    }
   ],
   "source": [
    "# examine the best model\n",
    "print(grid.best_score_)\n",
    "print(grid.best_params_)\n",
    "print (grid.best_estimator_)\n",
    "# Best score did not improve for this model"
   ]
  },
  {
   "cell_type": "code",
   "execution_count": 472,
   "metadata": {},
   "outputs": [
    {
     "data": {
      "text/plain": [
       "array([2, 2, 0, 0, 1, 2, 0, 1, 0, 1, 1, 0, 2, 2, 0, 1, 0, 1, 1, 2, 1, 2,\n",
       "       1, 2, 0, 2, 1, 1, 2, 2, 0, 1, 0, 1, 2, 2, 0, 0, 0, 2, 2, 0, 0, 1,\n",
       "       1, 0, 1, 2, 0, 2, 1, 1, 1, 0])"
      ]
     },
     "execution_count": 472,
     "metadata": {},
     "output_type": "execute_result"
    }
   ],
   "source": [
    "# trained model using all data and the best known parameters\n",
    "\n",
    "#  model with best parameters\n",
    "knn = KNeighborsClassifier(n_neighbors=3, weights='uniform')\n",
    "\n",
    "# fitted with  X_train and y_train\n",
    "# even if we use train/test split, we should train on X and y before making predictions on new data\n",
    "# otherwise we throw away potential valuable data we can learn from\n",
    "knn.fit(X_train, y_train)\n",
    "\n",
    "# make a prediction on out-of-sample data\n",
    "knn.predict(X_test)"
   ]
  },
  {
   "cell_type": "code",
   "execution_count": 473,
   "metadata": {},
   "outputs": [
    {
     "data": {
      "text/plain": [
       "array([2, 2, 0, 0, 1, 2, 0, 1, 0, 1, 1, 0, 2, 2, 0, 1, 0, 1, 1, 2, 1, 2,\n",
       "       1, 2, 0, 2, 1, 1, 2, 2, 0, 1, 0, 1, 2, 2, 0, 0, 0, 2, 2, 0, 0, 1,\n",
       "       1, 0, 1, 2, 0, 2, 1, 1, 1, 0])"
      ]
     },
     "execution_count": 473,
     "metadata": {},
     "output_type": "execute_result"
    }
   ],
   "source": [
    "# GridSearchCV automatically refits the best model using all of the data\n",
    "# that best fitted model is stored in grid object \n",
    "# we can then use prediction using the best fitted model\n",
    "# code in this cell is the same as the top\n",
    "\n",
    "grid.predict(X_test)"
   ]
  },
  {
   "cell_type": "code",
   "execution_count": 474,
   "metadata": {},
   "outputs": [
    {
     "name": "stdout",
     "output_type": "stream",
     "text": [
      "1.0\n"
     ]
    }
   ],
   "source": [
    "knn = KNeighborsClassifier(n_neighbors=8, metric='euclidean').fit(X_train,y_train)\n",
    "#knn.fit(X_train,y_train)\n",
    "\n",
    "# testing the model\n",
    "y_pred = knn.predict(X_test)\n",
    "\n",
    "# checking the accuaracy of the model\n",
    "scores = metrics.accuracy_score(y_test,y_pred)\n",
    "print(scores)"
   ]
  },
  {
   "cell_type": "code",
   "execution_count": 475,
   "metadata": {},
   "outputs": [
    {
     "name": "stdout",
     "output_type": "stream",
     "text": [
      "[[18  0  0]\n",
      " [ 0 19  0]\n",
      " [ 0  0 17]]\n",
      "              precision    recall  f1-score   support\n",
      "\n",
      "           0       1.00      1.00      1.00        18\n",
      "           1       1.00      1.00      1.00        19\n",
      "           2       1.00      1.00      1.00        17\n",
      "\n",
      "   micro avg       1.00      1.00      1.00        54\n",
      "   macro avg       1.00      1.00      1.00        54\n",
      "weighted avg       1.00      1.00      1.00        54\n",
      "\n"
     ]
    }
   ],
   "source": [
    "# Evaluating the model with Confusion matrix\n",
    "print(confusion_matrix(y_test, y_pred))  \n",
    "print(classification_report(y_test, y_pred))\n"
   ]
  },
  {
   "cell_type": "markdown",
   "metadata": {},
   "source": [
    "From cross validation, best k value estimated for wine quality classification is 8.The accuaracy with k=8 is 70.3%. precision is 79%, recall is 70% and f1 score is 52 %."
   ]
  },
  {
   "cell_type": "markdown",
   "metadata": {},
   "source": [
    "### Conclusion:\n",
    "\n",
    "#### Wisconsin Breast Cancer dataset:\n",
    "\n",
    "The target Variable contains 2 classes it is binomial classification with K Nearest Neighbour.\n",
    "With  standardization and Cross validated K value the Evaluation metrics like Precision, Recall and f1 score are having better values. Because the malignant is important or positive class, the precision is very important here.As the model is performing well with cross validated k value. And the prediction results with testing data are good compared to training data, it is not overfitted model.\n",
    "K nearest neighbour algorithm is working well with this data so we can use this model for this kind of datasets.\n",
    "\n",
    "#### Wine Quality Dataset:\n",
    "\n",
    "The target variable contains 3 classes, so it is multi class classification with K nearest Neighbours.\n",
    " standardization and Cross validated k value gave almost better results  but not best. Here we can not say which class is important, so we have to check for the all the evalutaion metrics. For this kind of data trying other clssification algorithm is better when compared to Knn as it is not predicting well even with cross validated k value. \n",
    " \n",
    "kKNN has been used successfully for computer vision applications, including optical character recognition and facial recognition in both still images and video. Also in predicting whether a person will enjoy a movie or music recommendation, etc.\n"
   ]
  }
 ],
 "metadata": {
  "kernelspec": {
   "display_name": "Python 3",
   "language": "python",
   "name": "python3"
  }
 },
 "nbformat": 4,
 "nbformat_minor": 2
}
